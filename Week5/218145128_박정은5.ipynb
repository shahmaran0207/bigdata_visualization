{
 "cells": [
  {
   "cell_type": "markdown",
   "id": "38534a60",
   "metadata": {},
   "source": [
    "## 지니 사이트 크롤링"
   ]
  },
  {
   "cell_type": "code",
   "execution_count": 1,
   "id": "df12afb7",
   "metadata": {},
   "outputs": [
    {
     "name": "stderr",
     "output_type": "stream",
     "text": [
      "C:\\Users\\wjaud\\AppData\\Local\\Temp\\ipykernel_27380\\4216649977.py:4: DeprecationWarning: executable_path has been deprecated, please pass in a Service object\n",
      "  driver=webdriver.Chrome('chromedriver.exe')\n"
     ]
    }
   ],
   "source": [
    "from selenium import webdriver\n",
    "from bs4 import BeautifulSoup\n",
    "\n",
    "driver=webdriver.Chrome('chromedriver.exe')\n",
    "url='https://www.genie.co.kr/chart/top200'\n",
    "driver.get(url)\n",
    "\n",
    "html=driver.page_source\n",
    "soup=BeautifulSoup(html, 'html.parser')"
   ]
  },
  {
   "cell_type": "code",
   "execution_count": 2,
   "id": "48d0a0d9",
   "metadata": {},
   "outputs": [
    {
     "data": {
      "text/plain": [
       "50"
      ]
     },
     "execution_count": 2,
     "metadata": {},
     "output_type": "execute_result"
    }
   ],
   "source": [
    "songs=soup.select('table > tbody > tr')\n",
    "len(songs)"
   ]
  },
  {
   "cell_type": "code",
   "execution_count": 3,
   "id": "5cb84365",
   "metadata": {},
   "outputs": [
    {
     "name": "stdout",
     "output_type": "stream",
     "text": [
      "<tr class=\"list\" songid=\"98133352\">\n",
      "<td class=\"check\"><input class=\"select-check\" title=\"새삥 (Prod. by ZICO) (Feat. 호미들)\" type=\"checkbox\"/></td>\n",
      "<td class=\"number\">1\n",
      "                                        \n",
      "                                    <span class=\"rank\">\n",
      "<span class=\"rank\"><span class=\"rank-none\"><span class=\"hide\">유지</span></span></span>\n",
      "</span>\n",
      "</td>\n",
      "<td><a class=\"cover\" href=\"#\" onclick=\"fnViewAlbumLayer('82941007');return false;\"><span class=\"mask\"></span><img alt=\"스트릿 맨 파이터(SMF) Original Vol.3 (계급미션)\" onerror=\"this.src='//image.genie.co.kr/imageg/web/common/blank_68.gif';\" src=\"//image.genie.co.kr/Y/IMAGE/IMG_ALBUM/082/941/007/82941007_1662445894361_1_140x140.JPG/dims/resize/Q_80,0\"/></a></td>\n",
      "<td class=\"link\"><a class=\"btn-basic btn-info\" href=\"#\" onclick=\"fnViewSongInfo('98133352');return false;\">곡 제목 정보 페이지</a></td>\n",
      "<td class=\"info\">\n",
      "<a class=\"title ellipsis\" href=\"#\" onclick=\"fnPlaySong('98133352','1');return false;\" title=\"재생\">\n",
      "                                        \n",
      "                                            \n",
      "                                        \n",
      "                                        \n",
      "                                        \n",
      "                                        \n",
      "                                            \n",
      "                                                새삥 (Prod. by ZICO) (Feat. 호미들)</a>\n",
      "<a class=\"artist ellipsis\" href=\"#\" onclick=\"fnViewArtist('80291985');return false;\">지코 (ZICO)</a>\n",
      "<div class=\"toggle-button-box\">\n",
      "<button class=\"btn artist-etc\" onclick=\"fnRelationArtistList('98133352');\" type=\"button\">외</button>\n",
      "<ul class=\"list\" id=\"RelationArtist_98133352\"></ul>\n",
      "</div>\n",
      "<i class=\"bar\">|</i>\n",
      "<a class=\"albumtitle ellipsis\" href=\"#\" onclick=\"fnViewAlbumLayer('82941007');return false;\">스트릿 맨 파이터(SMF) Original Vol.3 (계급미션)</a>\n",
      "</td>\n",
      "<td class=\"btns\"><a class=\"btn-basic btn-listen\" href=\"#\" onclick=\"fnPlaySong('98133352;' ,'1'); return false;\" title=\"재생\">듣기</a></td>\n",
      "<td class=\"btns\"><a class=\"btn-basic btn-add\" href=\"#\" onclick=\"fnPlaySong('98133352;' ,'3'); return false;\" title=\"추가\">재생목록에 추가</a></td>\n",
      "<td class=\"btns\"><button class=\"btn-basic btn-album\" id=\"add_my_album_98133352\" onclick=\"fnAddMyAlbumForm('#add_my_album_98133352' , '98133352' ,10, 10);return false;\" songid=\"98133352\" type=\"button\">플레이리스트에 담기</button></td>\n",
      "<td class=\"btns\"><a class=\"btn-basic btn-down\" href=\"#\" onclick=\"fnDownSong('98133352');return false;\" title=\"다운\">다운로드</a></td>\n",
      "<td class=\"btns\">\n",
      "<div class=\"toggle-button-box lyr-mv\" id=\"list-mv_98133352\">\n",
      "<a alt=\"새삥 (Prod. by ZICO) (Feat. 호미들)\" class=\"btn btn-basic btn-mv disabled\" href=\"#\" onclick=\"return false;\" style=\"pointer-events: none;\" title=\"재생 불가\">뮤직비디오 보기</a>\n",
      "</div>\n",
      "</td>\n",
      "<td class=\"more\">\n",
      "<div class=\"toggle-button-box\">\n",
      "<button class=\"btn btn-basic btn-more\" type=\"button\">더보기</button>\n",
      "<ul class=\"list\">\n",
      "<li><a class=\"item\" href=\"#\" onclick=\"shareDo('98133352');return false;\" title=\"공유\">공유하기/음악나누기</a></li>\n",
      "<li><a class=\"item\" href=\"#\" onclick=\"fnGiftSong('98133352');return false;\" title=\"선물\">선물하기</a></li>\n",
      "</ul>\n",
      "</div>\n",
      "</td>\n",
      "</tr>\n"
     ]
    }
   ],
   "source": [
    "print(songs[0])"
   ]
  },
  {
   "cell_type": "code",
   "execution_count": 7,
   "id": "1a431cd4",
   "metadata": {},
   "outputs": [],
   "source": [
    "song=songs[0]"
   ]
  },
  {
   "cell_type": "code",
   "execution_count": 8,
   "id": "4d3019bc",
   "metadata": {},
   "outputs": [
    {
     "data": {
      "text/plain": [
       "1"
      ]
     },
     "execution_count": 8,
     "metadata": {},
     "output_type": "execute_result"
    }
   ],
   "source": [
    "title=song.select('a.title')\n",
    "len(title)"
   ]
  },
  {
   "cell_type": "code",
   "execution_count": 9,
   "id": "8c5039a9",
   "metadata": {},
   "outputs": [
    {
     "data": {
      "text/plain": [
       "'\\n                                        \\n                                            \\n                                        \\n                                        \\n                                        \\n                                        \\n                                            \\n                                                새삥 (Prod. by ZICO) (Feat. 호미들)'"
      ]
     },
     "execution_count": 9,
     "metadata": {},
     "output_type": "execute_result"
    }
   ],
   "source": [
    "title=song.select('a.title')[0].text\n",
    "title"
   ]
  },
  {
   "cell_type": "code",
   "execution_count": 10,
   "id": "f84b40ba",
   "metadata": {},
   "outputs": [
    {
     "data": {
      "text/plain": [
       "'새삥 (Prod. by ZICO) (Feat. 호미들)'"
      ]
     },
     "execution_count": 10,
     "metadata": {},
     "output_type": "execute_result"
    }
   ],
   "source": [
    "title=song.select('a.title')[0].text.strip()\n",
    "title"
   ]
  },
  {
   "cell_type": "code",
   "execution_count": 11,
   "id": "6d3a8b1f",
   "metadata": {},
   "outputs": [
    {
     "data": {
      "text/plain": [
       "1"
      ]
     },
     "execution_count": 11,
     "metadata": {},
     "output_type": "execute_result"
    }
   ],
   "source": [
    "singer=song.select('a.artist')\n",
    "len(singer)"
   ]
  },
  {
   "cell_type": "code",
   "execution_count": 12,
   "id": "98bcd571",
   "metadata": {},
   "outputs": [
    {
     "data": {
      "text/plain": [
       "'지코 (ZICO)'"
      ]
     },
     "execution_count": 12,
     "metadata": {},
     "output_type": "execute_result"
    }
   ],
   "source": [
    "singer=song.select('a.artist')[0].text\n",
    "singer"
   ]
  },
  {
   "cell_type": "code",
   "execution_count": 13,
   "id": "229cd3e9",
   "metadata": {},
   "outputs": [
    {
     "name": "stdout",
     "output_type": "stream",
     "text": [
      "새삥 (Prod. by ZICO) (Feat. 호미들)|지코 (ZICO)\n",
      "After LIKE|IVE (아이브)\n",
      "Shut Down|BLACKPINK\n",
      "Attention|NewJeans\n",
      "Hype boy|NewJeans\n",
      "Pink Venom|BLACKPINK\n",
      "LOVE DIVE|IVE (아이브)\n",
      "Rush Hour (Feat. j-hope of BTS)|Crush\n",
      "우린 그렇게 사랑해서|강민경 (다비치) & 잔나비 최정훈\n",
      "Monologue|테이 (Tei)\n",
      "그때 그 순간 그대로 (그그그)|WSG워너비 (가야G)\n",
      "LAW (Prod. by Czaer)|비비 (BIBI) & 윤미래\n",
      "딱 10CM만|10CM & BIG Naughty (서동현)\n",
      "사랑은 늘 도망가|임영웅\n",
      "Cookie|NewJeans\n",
      "자격지심 (Feat. ZICO)|BE'O (비오)\n",
      "보고싶었어|WSG워너비 (4FIRE)\n",
      "FOREVER 1|소녀시대 (GIRLS' GENERATION)\n",
      "그라데이션|10CM\n",
      "TOMBOY|(여자)아이들\n",
      "우리들의 블루스|임영웅\n",
      "That's Hilarious|Charlie Puth\n",
      "사랑인가 봐|멜로망스 (MeloMance)\n",
      "That That (Prod. & Feat. SUGA of BTS)|싸이 (Psy)\n",
      "나의 X에게|경서\n",
      "다정히 내 이름을 부르면|경서예지 & 전건호\n",
      "다시 만날 수 있을까|임영웅\n",
      "내가 아니라도|주호\n",
      "SNEAKERS|ITZY (있지)\n",
      "ELEVEN|IVE (아이브)\n",
      "이제 나만 믿어요|임영웅\n",
      "정이라고 하자 (Feat. 10CM)|BIG Naughty (서동현)\n",
      "해요 (2022)|#안녕\n",
      "봄여름가을겨울 (Still Life)|BIGBANG (빅뱅)\n",
      "내 기쁨은 너가 벤틀리를 끄는 거야|김승민\n",
      "무지개|임영웅\n",
      "Love story|볼빨간사춘기\n",
      "아버지|임영웅\n",
      "도깨비불 (Illusion)|aespa\n",
      "LOVE me|BE'O (비오)\n",
      "취중고백|김민석 (멜로망스)\n",
      "POP!|나연 (TWICE)\n",
      "A bientot|임영웅\n",
      "Stay|The Kid LAROI & Justin Bieber\n",
      "FEARLESS|LE SSERAFIM (르세라핌)\n",
      "손이 참 곱던 그대|임영웅\n",
      "사랑해 진짜|임영웅\n",
      "사랑역|임영웅\n",
      "Loving You Girl (Feat. Hkeem)|Peder Elias\n",
      "너의 모든 순간|성시경\n"
     ]
    }
   ],
   "source": [
    "songs=soup.select('tbody > tr')\n",
    "\n",
    "for song in songs:\n",
    "    title=song.select('a.title')[0].text.strip()\n",
    "    singer=song.select('a.artist')[0].text\n",
    "    print(title, singer, sep='|')"
   ]
  },
  {
   "cell_type": "code",
   "execution_count": 14,
   "id": "28fa8fc0",
   "metadata": {},
   "outputs": [],
   "source": [
    "song_data=[]\n",
    "rank=1\n",
    "songs=soup.select('table > tbody > tr')\n",
    "\n",
    "for song in songs:\n",
    "    title=song.select('a.title')[0].text.strip()\n",
    "    singer=song.select('a.artist')[0].text.strip()\n",
    "    song_data.append(['Genie', rank, title, singer])\n",
    "    rank=rank+1"
   ]
  },
  {
   "cell_type": "code",
   "execution_count": 17,
   "id": "de99fde4",
   "metadata": {},
   "outputs": [],
   "source": [
    "import pandas as pd\n",
    "columns=['서비스', '순위', '타이틀', '가수']\n",
    "pd_data=pd.DataFrame(song_data, columns=columns)\n",
    "pd_data.to_excel('genie.xlsx', index=False)"
   ]
  }
 ],
 "metadata": {
  "kernelspec": {
   "display_name": "Python 3 (ipykernel)",
   "language": "python",
   "name": "python3"
  },
  "language_info": {
   "codemirror_mode": {
    "name": "ipython",
    "version": 3
   },
   "file_extension": ".py",
   "mimetype": "text/x-python",
   "name": "python",
   "nbconvert_exporter": "python",
   "pygments_lexer": "ipython3",
   "version": "3.9.12"
  }
 },
 "nbformat": 4,
 "nbformat_minor": 5
}
