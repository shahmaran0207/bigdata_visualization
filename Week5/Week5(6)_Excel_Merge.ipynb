{
 "cells": [
  {
   "cell_type": "markdown",
   "id": "dcf95612",
   "metadata": {},
   "source": [
    "## 멜론, 벅스, 지니 크롤링 엑셀 파일 통합하기"
   ]
  },
  {
   "cell_type": "code",
   "execution_count": 1,
   "id": "d66c72c8",
   "metadata": {},
   "outputs": [
    {
     "name": "stderr",
     "output_type": "stream",
     "text": [
      "C:\\Users\\kgwhs\\AppData\\Local\\Temp\\ipykernel_18492\\2548296430.py:8: FutureWarning: The frame.append method is deprecated and will be removed from pandas in a future version. Use pandas.concat instead.\n",
      "  appended_data = appended_data.append(pd_data)\n",
      "C:\\Users\\kgwhs\\AppData\\Local\\Temp\\ipykernel_18492\\2548296430.py:8: FutureWarning: The frame.append method is deprecated and will be removed from pandas in a future version. Use pandas.concat instead.\n",
      "  appended_data = appended_data.append(pd_data)\n",
      "C:\\Users\\kgwhs\\AppData\\Local\\Temp\\ipykernel_18492\\2548296430.py:8: FutureWarning: The frame.append method is deprecated and will be removed from pandas in a future version. Use pandas.concat instead.\n",
      "  appended_data = appended_data.append(pd_data)\n"
     ]
    }
   ],
   "source": [
    "# 예제 3-35 크롤링 결과가 담긴 엑셀 파일 통합하기 \n",
    "import pandas as pd\n",
    "excel_names = ['melon.xlsx', 'bugs.xlsx', 'genie.xlsx']\n",
    "\n",
    "appended_data = pd.DataFrame()\n",
    "for name in excel_names:\n",
    "    pd_data = pd.read_excel(name)\n",
    "    appended_data = appended_data.append(pd_data)"
   ]
  },
  {
   "cell_type": "code",
   "execution_count": 2,
   "id": "70ac718b",
   "metadata": {},
   "outputs": [
    {
     "name": "stdout",
     "output_type": "stream",
     "text": [
      "<class 'pandas.core.frame.DataFrame'>\n",
      "Int64Index: 250 entries, 0 to 49\n",
      "Data columns (total 4 columns):\n",
      " #   Column  Non-Null Count  Dtype \n",
      "---  ------  --------------  ----- \n",
      " 0   서비스     250 non-null    object\n",
      " 1   순위      250 non-null    int64 \n",
      " 2   타이틀     250 non-null    object\n",
      " 3   가수      250 non-null    object\n",
      "dtypes: int64(1), object(3)\n",
      "memory usage: 9.8+ KB\n"
     ]
    }
   ],
   "source": [
    "# 예제 3-36 크롤링 결과 확인하기\n",
    "appended_data.info()"
   ]
  },
  {
   "cell_type": "code",
   "execution_count": 3,
   "id": "90306711",
   "metadata": {},
   "outputs": [],
   "source": [
    "# 예제 3-37 통합한 크롤링 결과를 엑셀 파일로 저장하기 \n",
    "appended_data.to_excel('total.xlsx', index=False)"
   ]
  },
  {
   "cell_type": "code",
   "execution_count": null,
   "id": "3c5fb5b8",
   "metadata": {},
   "outputs": [],
   "source": []
  }
 ],
 "metadata": {
  "kernelspec": {
   "display_name": "Python 3 (ipykernel)",
   "language": "python",
   "name": "python3"
  },
  "language_info": {
   "codemirror_mode": {
    "name": "ipython",
    "version": 3
   },
   "file_extension": ".py",
   "mimetype": "text/x-python",
   "name": "python",
   "nbconvert_exporter": "python",
   "pygments_lexer": "ipython3",
   "version": "3.9.12"
  }
 },
 "nbformat": 4,
 "nbformat_minor": 5
}
