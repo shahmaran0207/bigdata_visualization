{
 "cells": [
  {
   "cell_type": "markdown",
   "id": "4dc4454e",
   "metadata": {},
   "source": [
    "## 벅스 사이트 크롤링"
   ]
  },
  {
   "cell_type": "code",
   "execution_count": 2,
   "id": "3f482d67",
   "metadata": {},
   "outputs": [
    {
     "name": "stderr",
     "output_type": "stream",
     "text": [
      "C:\\Users\\wjaud\\AppData\\Local\\Temp\\ipykernel_20368\\3042519098.py:4: DeprecationWarning: executable_path has been deprecated, please pass in a Service object\n",
      "  driver=webdriver.Chrome('chromedriver.exe')\n"
     ]
    }
   ],
   "source": [
    "from selenium import webdriver\n",
    "from bs4 import BeautifulSoup\n",
    "\n",
    "driver=webdriver.Chrome('chromedriver.exe')\n",
    "url='https://music.bugs.co.kr/chart'\n",
    "driver.get(url)\n",
    "\n",
    "html=driver.page_source\n",
    "soup=BeautifulSoup(html, 'html.parser')"
   ]
  },
  {
   "cell_type": "code",
   "execution_count": 6,
   "id": "ff8fe590",
   "metadata": {},
   "outputs": [
    {
     "name": "stdout",
     "output_type": "stream",
     "text": [
      "103\n"
     ]
    }
   ],
   "source": [
    "songs=soup.select('tbody > tr')\n",
    "print(len(songs))"
   ]
  },
  {
   "cell_type": "code",
   "execution_count": 8,
   "id": "4147295a",
   "metadata": {},
   "outputs": [
    {
     "name": "stdout",
     "output_type": "stream",
     "text": [
      "100\n"
     ]
    }
   ],
   "source": [
    "songs=soup.select('table.byChart > tbody > tr')\n",
    "print(len(songs))"
   ]
  },
  {
   "cell_type": "code",
   "execution_count": 9,
   "id": "669cf04d",
   "metadata": {},
   "outputs": [
    {
     "name": "stdout",
     "output_type": "stream",
     "text": [
      "<tr albumid=\"4080312\" artistid=\"80343530\" multiartist=\"N\" mvid=\"611798\" rowtype=\"track\" trackid=\"6177909\">\n",
      "<input name=\"_isStream\" type=\"hidden\" value=\"6177909\"/>\n",
      "<input name=\"_isDown\" type=\"hidden\" value=\"6177909\"/>\n",
      "<td class=\"check\"><input buyminquality=\"T\" disc_id=\"1\" name=\"check\" title=\"HELLO\" type=\"checkbox\" value=\"6177909\"/></td>\n",
      "<td>\n",
      "<div class=\"ranking\">\n",
      "<strong>1</strong>\n",
      "<p class=\"change none\"><em>0</em><span>변동없음</span></p>\n",
      "</div>\n",
      "</td>\n",
      "<td>\n",
      "<a class=\"thumbnail\" href=\"https://music.bugs.co.kr/album/4080312?wl_ref=list_tr_07_chart\" onclick=\"\n",
      "\">\n",
      "<span class=\"mask\"></span>\n",
      "<img alt=\"THE SECOND STEP : CHAPTER TWO 대표이미지\" onerror=\"bugs.utils.imgError(this);\" src=\"https://image.bugsm.co.kr/album/images/50/40803/4080312.jpg?version=20221005063805.0\"/>\n",
      "</a>\n",
      "</td>\n",
      "<td>\n",
      "<a class=\"trackInfo\" href=\"https://music.bugs.co.kr/track/6177909?wl_ref=list_tr_08_chart\" onclick=\"\n",
      "\">곡정보</a>\n",
      "</td>\n",
      "<th scope=\"row\">\n",
      "<p adult_yn=\"N\" class=\"title\">\n",
      "<a adultcheckval=\"1\" aria-label=\"새창\" href=\"javascript:;\" onclick=\"bugs.wiselog.area('list_tr_09_chart');bugs.music.listen('6177909',true);\n",
      "\" title=\"HELLO\">HELLO</a>\n",
      "</p>\n",
      "</th>\n",
      "<td class=\"left\">\n",
      "<p class=\"artist\">\n",
      "<a href=\"https://music.bugs.co.kr/artist/80343530?wl_ref=list_tr_10_chart\" onclick=\"\n",
      "\" title=\"TREASURE(트레저)\">TREASURE(트레저)</a>\n",
      "</p>\n",
      "</td>\n",
      "<td class=\"left\">\n",
      "<a class=\"album\" href=\"https://music.bugs.co.kr/album/4080312?wl_ref=list_tr_11_chart\" onclick=\"\n",
      "\" title=\"THE SECOND STEP : CHAPTER TWO\">THE SECOND STEP : CHAPTER TWO</a>\n",
      "</td>\n",
      "<td>\n",
      "<a adultcheckval=\"1\" aria-label=\"새창\" class=\"btn play\" href=\"javascript:;\" onclick=\"bugs.wiselog.area('list_tr_12_chart');bugs.music.listen('6177909',true);\n",
      "\">듣기</a>\n",
      "</td>\n",
      "<td>\n",
      "<a adultcheckval=\"1\" aria-label=\"새창\" class=\"btn addPlaylist\" href=\"javascript:;\" onclick=\"bugs.wiselog.area('list_tr_13_chart');bugs.music.listen('6177909');\n",
      "\">재생목록에 추가</a>\n",
      "</td>\n",
      "<td>\n",
      "<a class=\"btn addAlbum\" href=\"javascript:;\" onclick=\"bugs.wiselog.area('list_tr_14_chart');bugs.music.addTrackToMyAlbum(this,'6177909');\n",
      "\" track_title=\"HELLO\">내 앨범에 담기</a>\n",
      "</td>\n",
      "<td>\n",
      "<a adultcheckval=\"1\" aria-label=\"새창\" class=\"btn download flac\" href=\"javascript:;\" onclick=\"bugs.wiselog.area('list_tr_15_chart');bugs.layermenu.down(this,'6177909','true','true','44.1','true','48', null );\n",
      "\"><em class=\"flac\">flac </em>다운로드</a>\n",
      "</td>\n",
      "<td>\n",
      "<a aria-label=\"새창\" class=\"btn viewMV\" href=\"javascript:;\" onclick=\"bugs.wiselog.area('list_tr_16_chart');\n",
      "bugs.layermenu.mv(this,6177909, 611798, 'Y', 'Y', 'Y', 'Y', 6177909, 'N','ALL', 'Y');\n",
      "\">영상 재생</a>\n",
      "</td>\n",
      "<td>\n",
      "<a artist_disp_nm=\"TREASURE(트레저)\" artist_id=\"80343530\" class=\"btnActions\" href=\"javascript:;\" layer_type=\"CHART\" layerpositiontarget=\"td\" onclick=\"bugs.wiselog.area('list_tr_17_chart');\n",
      "bugs.layermenu.trackMoreAction(this,'6177909','0','4080312','bugs.music.listenRadioFromSeed(\\'6177909\\',\\'track\\');','N', 'Y', '_chart');\n",
      "\" track_title=\"HELLO\">기타 기능</a>\n",
      "</td>\n",
      "</tr>\n"
     ]
    }
   ],
   "source": [
    "print(songs[0])"
   ]
  },
  {
   "cell_type": "code",
   "execution_count": 10,
   "id": "8f05451b",
   "metadata": {},
   "outputs": [],
   "source": [
    "song=songs[0]"
   ]
  },
  {
   "cell_type": "code",
   "execution_count": 11,
   "id": "602dd8d3",
   "metadata": {},
   "outputs": [
    {
     "data": {
      "text/plain": [
       "11"
      ]
     },
     "execution_count": 11,
     "metadata": {},
     "output_type": "execute_result"
    }
   ],
   "source": [
    "title=song.select('a')\n",
    "len(title)"
   ]
  },
  {
   "cell_type": "code",
   "execution_count": 12,
   "id": "e1054446",
   "metadata": {},
   "outputs": [
    {
     "data": {
      "text/plain": [
       "1"
      ]
     },
     "execution_count": 12,
     "metadata": {},
     "output_type": "execute_result"
    }
   ],
   "source": [
    "title=song.select('p.title > a')\n",
    "len(title)"
   ]
  },
  {
   "cell_type": "code",
   "execution_count": 17,
   "id": "8cefc221",
   "metadata": {},
   "outputs": [
    {
     "data": {
      "text/plain": [
       "'HELLO'"
      ]
     },
     "execution_count": 17,
     "metadata": {},
     "output_type": "execute_result"
    }
   ],
   "source": [
    "title=song.select('p.title > a')[0].text.strip()\n",
    "title"
   ]
  },
  {
   "cell_type": "code",
   "execution_count": 18,
   "id": "71714107",
   "metadata": {},
   "outputs": [
    {
     "data": {
      "text/plain": [
       "'TREASURE(트레저)'"
      ]
     },
     "execution_count": 18,
     "metadata": {},
     "output_type": "execute_result"
    }
   ],
   "source": [
    "singer=song.select('p.artist > a')[0].text.strip()\n",
    "singer"
   ]
  },
  {
   "cell_type": "code",
   "execution_count": 19,
   "id": "7a730161",
   "metadata": {},
   "outputs": [
    {
     "name": "stdout",
     "output_type": "stream",
     "text": [
      "HELLO|TREASURE(트레저)\n",
      "고마워 (THANK YOU) (ASAHI x HARUTO Unit)|TREASURE(트레저)\n",
      "CLAP!|TREASURE(트레저)\n",
      "묻어둔다 (HOLD IT IN)|TREASURE(트레저)\n",
      "VolKno (CHOI HYUN SUK x YOSHI x HARUTO Unit)|TREASURE(트레저)\n",
      "새삥 (Prod. ZICO) (Feat. 호미들)|지코\n",
      "After LIKE|IVE (아이브)\n",
      "Shut Down|BLACKPINK\n",
      "Hype Boy|NewJeans\n",
      "I Don’t Think That I Like Her|Charlie Puth(찰리 푸스)\n",
      "28 Reasons|슬기(SEULGI)\n",
      "Rush Hour (Feat. j-hope of BTS)|Crush\n",
      "Attention|NewJeans\n",
      "자격지심 (Feat. ZICO)|BE'O (비오)\n",
      "우린 그렇게 사랑해서|강민경\n",
      "Pink Venom|BLACKPINK\n",
      "LOVE DIVE|IVE (아이브)\n",
      "딱 10CM만|10CM\n",
      "Cookie|NewJeans\n",
      "FEARLESS|LE SSERAFIM (르세라핌)\n",
      "Monologue|테이(Tei)\n",
      "LAW (Prod. Czaer)|윤미래\n",
      "DICE|NMIXX\n",
      "Dangerously|Charlie Puth(찰리 푸스)\n",
      "그라데이션|10CM\n",
      "해요 (2022)|#안녕\n",
      "That's Hilarious|Charlie Puth(찰리 푸스)\n",
      "정이라고 하자 (Feat. 10CM)|BIG Naughty (서동현)\n",
      "도깨비불 (Illusion)|aespa\n",
      "ELEVEN|IVE (아이브)\n",
      "FOREVER 1|소녀시대 (GIRLS' GENERATION)\n",
      "내가 아니라도|주호\n",
      "너의 모든 순간|성시경\n",
      "Charlie Be Quiet!|Charlie Puth(찰리 푸스)\n",
      "Talk that Talk|TWICE (트와이스)\n",
      "TOMBOY|(여자)아이들\n",
      "그때 그 순간 그대로 (그그그)|WSG워너비 (가야G)\n",
      "SNEAKERS|ITZY (있지)\n",
      "strawberry moon|아이유(IU)\n",
      "I Ain't Worried|OneRepublic(원리퍼블릭)\n",
      "주저하는 연인들을 위해|잔나비\n",
      "Feel My Rhythm|Red Velvet (레드벨벳)\n",
      "Love story|볼빨간사춘기\n",
      "불이나|EXID\n",
      "나의 X에게|경서\n",
      "봄여름가을겨울 (Still Life)|BIGBANG (빅뱅)\n",
      "POP!|나연 (TWICE)\n",
      "모든 날, 모든 순간 (Every day, Every Moment)|폴킴(Paul Kim)\n",
      "사랑인가 봐|멜로망스(MeloMance)\n",
      "다정히 내 이름을 부르면|경서예지\n",
      "보고싶었어|WSG워너비 (4FIRE)\n",
      "Next Level|aespa\n",
      "스티커 사진|21학번\n",
      "Left and Right (Feat. Jung Kook of BTS)|Charlie Puth(찰리 푸스)\n",
      "Bad Boy, Sad Girl (Feat. BE’O)|슬기(SEULGI)\n",
      "SMILEY (Feat. BIBI)|YENA (최예나)\n",
      "Dead Man Runnin’|슬기(SEULGI)\n",
      "STAY|The Kid LAROI\n",
      "That That (prod. & feat. SUGA of BTS)|싸이 (PSY)\n",
      "Ready For Love|BLACKPINK\n",
      "새벽에 걸려온 너의 전화는|한동근\n",
      "사랑하긴 했었나요 스쳐가는 인연이었나요 짧지않은 우리 함께했던 시간들이 자꾸 내 마음을 가둬두네|잔나비\n",
      "질주 (2 Baddies)|NCT 127\n",
      "INVU|태연 (TAEYEON)\n",
      "열이올라요 (Heart Burn)|선미\n",
      "LOVE me|BE'O (비오)\n",
      "신호등|이무진\n",
      "가을밤에 든 생각|잔나비\n",
      "내 기쁨은 너가 벤틀리를 끄는 거야|김승민\n",
      "Anywhere But Home|슬기(SEULGI)\n",
      "Celestial|Ed Sheeran(에드 시런)\n",
      "Hurt|NewJeans\n",
      "Crown|슬기(SEULGI)\n",
      "사건의 지평선|윤하(Younha/ユンナ)\n",
      "별이 빛나는 오늘 밤에|펀치 (Punch)\n",
      "드라마|아이유(IU)\n",
      "Somebody!|로꼬\n",
      "Girls|aespa\n",
      "Los Angeles|슬기(SEULGI)\n",
      "사랑은 늘 도망가|임영웅\n",
      "팡파레|다비치\n",
      "Celebrity|아이유(IU)\n",
      "I LOVE U|WINNER\n",
      "Yeah Yeah Yeah|BLACKPINK\n",
      "Off My Face|Justin Bieber(저스틴 비버)\n",
      "괴짜 (Freak)|지코\n",
      "MY BAG|(여자)아이들\n",
      "통화연결음|보라미유\n",
      "Smells Like Me|Charlie Puth(찰리 푸스)\n",
      "Light Switch|Charlie Puth(찰리 푸스)\n",
      "취중고백|김민석 (멜로망스)\n",
      "뜨거운 여름밤은 가고 남은 건 볼품없지만|잔나비\n",
      "사랑한다고 말해줘|탑현\n",
      "에잇(Prod.&Feat. SUGA of BTS)|아이유(IU)\n",
      "바보에게 바보가 (웹툰 '연애의 발견' X 이석훈)|이석훈\n",
      "늦은 밤 헤어지긴 너무 아쉬워|케이시\n",
      "Sparkling|청하\n",
      "줄 (Feat. 권진아)|BE'O (비오)\n",
      "시간아 멈춰 (Feat. Leellamarz) (Prod. TOIL)|다이나믹 듀오\n",
      "Weekend|태연 (TAEYEON)\n"
     ]
    }
   ],
   "source": [
    "songs=soup.select('table.byChart > tbody > tr')\n",
    "\n",
    "for song in songs:\n",
    "    title=song.select('p.title > a')[0].text\n",
    "    singer=song.select('p.artist > a')[0].text\n",
    "    print(title, singer, sep= '|')"
   ]
  },
  {
   "cell_type": "code",
   "execution_count": 20,
   "id": "e54a1fc8",
   "metadata": {},
   "outputs": [],
   "source": [
    "song_data=[]\n",
    "rank=1\n",
    "\n",
    "songs=soup.select('table.byChart > tbody > tr')\n",
    "for song in songs:\n",
    "    title=song.select('p.title > a')[0].text\n",
    "    singer=song.select('p.artist > a')[0].text\n",
    "    song_data.append(['Bugs', rank, title, singer])\n",
    "    rank=rank+1"
   ]
  },
  {
   "cell_type": "code",
   "execution_count": 21,
   "id": "a2273919",
   "metadata": {},
   "outputs": [
    {
     "name": "stdout",
     "output_type": "stream",
     "text": [
      "<class 'pandas.core.frame.DataFrame'>\n",
      "RangeIndex: 100 entries, 0 to 99\n",
      "Data columns (total 4 columns):\n",
      " #   Column  Non-Null Count  Dtype \n",
      "---  ------  --------------  ----- \n",
      " 0   서비스     100 non-null    object\n",
      " 1   순위      100 non-null    int64 \n",
      " 2   타이틀     100 non-null    object\n",
      " 3   가수      100 non-null    object\n",
      "dtypes: int64(1), object(3)\n",
      "memory usage: 3.2+ KB\n"
     ]
    }
   ],
   "source": [
    "import pandas as pd\n",
    "columns=['서비스', '순위', '타이틀', '가수']\n",
    "pd_data=pd.DataFrame(song_data, columns=columns)\n",
    "pd_data.info()"
   ]
  },
  {
   "cell_type": "code",
   "execution_count": 23,
   "id": "c8207870",
   "metadata": {},
   "outputs": [],
   "source": [
    "pd_data.to_excel('bugs.xlsx', index=False)"
   ]
  }
 ],
 "metadata": {
  "kernelspec": {
   "display_name": "Python 3 (ipykernel)",
   "language": "python",
   "name": "python3"
  },
  "language_info": {
   "codemirror_mode": {
    "name": "ipython",
    "version": 3
   },
   "file_extension": ".py",
   "mimetype": "text/x-python",
   "name": "python",
   "nbconvert_exporter": "python",
   "pygments_lexer": "ipython3",
   "version": "3.9.12"
  }
 },
 "nbformat": 4,
 "nbformat_minor": 5
}
