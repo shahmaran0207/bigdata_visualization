{
 "cells": [
  {
   "cell_type": "markdown",
   "id": "35283952",
   "metadata": {},
   "source": [
    "## Melon 사이트 크롤링"
   ]
  },
  {
   "cell_type": "code",
   "execution_count": 1,
   "id": "c474d4cb",
   "metadata": {},
   "outputs": [
    {
     "name": "stderr",
     "output_type": "stream",
     "text": [
      "C:\\Users\\wjaud\\AppData\\Local\\Temp\\ipykernel_22996\\1348076932.py:2: DeprecationWarning: executable_path has been deprecated, please pass in a Service object\n",
      "  driver=webdriver.Chrome('chromedriver.exe')\n"
     ]
    }
   ],
   "source": [
    "from selenium import webdriver\n",
    "driver=webdriver.Chrome('chromedriver.exe')"
   ]
  },
  {
   "cell_type": "code",
   "execution_count": 2,
   "id": "4418ac63",
   "metadata": {},
   "outputs": [],
   "source": [
    "url='https://www.melon.com/chart/index.htm'\n",
    "driver.get(url)"
   ]
  },
  {
   "cell_type": "code",
   "execution_count": 3,
   "id": "f7414842",
   "metadata": {},
   "outputs": [],
   "source": [
    "from bs4 import BeautifulSoup\n",
    "html=driver.page_source\n",
    "soup=BeautifulSoup(html, 'html.parser')"
   ]
  },
  {
   "cell_type": "code",
   "execution_count": 4,
   "id": "728a32a5",
   "metadata": {},
   "outputs": [
    {
     "name": "stdout",
     "output_type": "stream",
     "text": [
      "100\n",
      "<tr class=\"lst50\" data-song-no=\"35595136\" id=\"lst50\">\n",
      "<td><div class=\"wrap t_right\"><input class=\"input_check\" name=\"input_check\" title=\"새삥 (Prod. ZICO) (Feat. 호미들) 곡 선택\" type=\"checkbox\" value=\"35595136\"/></div></td>\n",
      "<td><div class=\"wrap t_center\"><span class=\"rank\">1</span><span class=\"none\">위</span></div></td>\n",
      "<!-- 차트순위 추가 -->\n",
      "<td><div class=\"wrap\">\n",
      "<span class=\"rank_wrap\" title=\"순위 동일\">\n",
      "<span class=\"bullet_icons rank_static\"><span class=\"none\">순위 동일</span></span>\n",
      "<span class=\"none\">0</span>\n",
      "</span>\n",
      "</div></td>\n",
      "<td><div class=\"wrap\">\n",
      "<a class=\"image_typeAll\" href=\"javascript:melon.link.goAlbumDetail('11045985');\" title=\"스트릿 맨 파이터(SMF) Original Vol.3 (계급미션)\">\n",
      "<img alt=\"스트릿 맨 파이터(SMF) Original Vol.3 (계급미션) - 페이지 이동\" height=\"60\" onerror=\"WEBPOCIMG.defaultAlbumImg(this);\" src=\"https://cdnimg.melon.co.kr/cm2/album/images/110/45/985/11045985_20220905151107_500.jpg/melon/resize/120/quality/80/optimize\" width=\"60\"/>\n",
      "<span class=\"bg_album_frame\"></span>\n",
      "</a>\n",
      "</div></td>\n",
      "<td><div class=\"wrap\">\n",
      "<a class=\"btn button_icons type03 song_info\" href=\"javascript:melon.link.goSongDetail('35595136');\" title=\"새삥 (Prod. ZICO) (Feat. 호미들) 곡정보\"><span class=\"none\">곡정보</span></a>\n",
      "</div></td>\n",
      "<td><div class=\"wrap\">\n",
      "<div class=\"wrap_song_info\">\n",
      "<div class=\"ellipsis rank01\"><span>\n",
      "<a href=\"javascript:melon.play.playSong('1000002721',35595136);\" title=\"새삥 (Prod. ZICO) (Feat. 호미들) 재생\">새삥 (Prod. ZICO) (Feat. 호미들)</a>\n",
      "</span></div><br/>\n",
      "<div class=\"ellipsis rank02\">\n",
      "<a href=\"javascript:melon.link.goArtistDetail('602056');\" title=\"지코 (ZICO) - 페이지 이동\">지코 (ZICO)</a><span class=\"checkEllipsis\" style=\"display: none;\"><a href=\"javascript:melon.link.goArtistDetail('602056');\" title=\"지코 (ZICO) - 페이지 이동\">지코 (ZICO)</a></span>\n",
      "</div>\n",
      "</div>\n",
      "</div></td>\n",
      "<td><div class=\"wrap\">\n",
      "<div class=\"wrap_song_info\">\n",
      "<div class=\"ellipsis rank03\">\n",
      "<a href=\"javascript:melon.link.goAlbumDetail('11045985');\" title=\"스트릿 맨 파이터(SMF) Original Vol.3 (계급미션) - 페이지 이동\">스트릿 맨 파이터(SMF) Original Vol.3 (계급미션)</a>\n",
      "</div>\n",
      "</div>\n",
      "</div></td>\n",
      "<td><div class=\"wrap\">\n",
      "<button class=\"button_etc like\" data-song-menuid=\"1000002721\" data-song-no=\"35595136\" title=\"새삥 (Prod. ZICO) (Feat. 호미들) 좋아요\" type=\"button\"><span class=\"odd_span\">좋아요</span>\n",
      "<span class=\"cnt\">\n",
      "<span class=\"none\">총건수</span>\n",
      "88,212</span></button>\n",
      "</div></td>\n",
      "<td><div class=\"wrap t_center\">\n",
      "<button class=\"button_icons play\" onclick=\"melon.play.playSong('1000002721',35595136);\" title=\"듣기\" type=\"button\"><span class=\"none\">듣기</span></button>\n",
      "</div></td>\n",
      "<td><div class=\"wrap t_center\">\n",
      "<button class=\"button_icons scrap\" onclick=\"melon.play.addPlayList('35595136');\" title=\"담기\" type=\"button\"><span class=\"none\">담기</span></button>\n",
      "</div></td>\n",
      "<td><div class=\"wrap t_center\">\n",
      "<button class=\"button_icons download\" onclick=\"melon.buy.goBuyProduct('frm', '35595136', '3C0001', '','0', '1000002721');\" title=\"다운로드\" type=\"button\"><span class=\"none\">다운로드</span></button>\n",
      "</div></td>\n",
      "<td><div class=\"wrap t_center\">\n",
      "<button class=\"button_icons video disabled\" disabled=\"disabled\" onclick=\"melon.link.goMvDetail('1000002721', '35595136','song');\" title=\"뮤직비디오\" type=\"button\"><span class=\"none\">뮤직비디오</span></button>\n",
      "</div></td>\n",
      "</tr>\n"
     ]
    }
   ],
   "source": [
    "songs=soup.select('table > tbody > tr')\n",
    "print(len(songs))\n",
    "print(songs[0])"
   ]
  },
  {
   "cell_type": "code",
   "execution_count": 9,
   "id": "d4b984b1",
   "metadata": {},
   "outputs": [
    {
     "data": {
      "text/plain": [
       "6"
      ]
     },
     "execution_count": 9,
     "metadata": {},
     "output_type": "execute_result"
    }
   ],
   "source": [
    "song=songs[0]\n",
    "title=song.select('a')\n",
    "len(title)"
   ]
  },
  {
   "cell_type": "code",
   "execution_count": 8,
   "id": "2c696a19",
   "metadata": {},
   "outputs": [
    {
     "data": {
      "text/plain": [
       "[<a href=\"javascript:melon.play.playSong('1000002721',35595136);\" title=\"새삥 (Prod. ZICO) (Feat. 호미들) 재생\">새삥 (Prod. ZICO) (Feat. 호미들)</a>,\n",
       " <a href=\"javascript:melon.link.goArtistDetail('602056');\" title=\"지코 (ZICO) - 페이지 이동\">지코 (ZICO)</a>]"
      ]
     },
     "execution_count": 8,
     "metadata": {},
     "output_type": "execute_result"
    }
   ],
   "source": [
    "title=song.select('span > a')\n",
    "len(title)\n",
    "title"
   ]
  },
  {
   "cell_type": "code",
   "execution_count": 11,
   "id": "b8959732",
   "metadata": {},
   "outputs": [
    {
     "data": {
      "text/plain": [
       "1"
      ]
     },
     "execution_count": 11,
     "metadata": {},
     "output_type": "execute_result"
    }
   ],
   "source": [
    "title=song.select('div.ellipsis.rank01 > span > a')\n",
    "len(title)"
   ]
  },
  {
   "cell_type": "code",
   "execution_count": 12,
   "id": "a9aee1b6",
   "metadata": {},
   "outputs": [
    {
     "data": {
      "text/plain": [
       "'새삥 (Prod. ZICO) (Feat. 호미들)'"
      ]
     },
     "execution_count": 12,
     "metadata": {},
     "output_type": "execute_result"
    }
   ],
   "source": [
    "title=song.select('div.ellipsis.rank01 > span > a')[0].text\n",
    "title"
   ]
  },
  {
   "cell_type": "code",
   "execution_count": 14,
   "id": "f75a5027",
   "metadata": {},
   "outputs": [
    {
     "data": {
      "text/plain": [
       "1"
      ]
     },
     "execution_count": 14,
     "metadata": {},
     "output_type": "execute_result"
    }
   ],
   "source": [
    "singer=song.select('div.ellipsis.rank02 > a')\n",
    "len(singer)"
   ]
  },
  {
   "cell_type": "code",
   "execution_count": 17,
   "id": "39f96534",
   "metadata": {},
   "outputs": [
    {
     "name": "stdout",
     "output_type": "stream",
     "text": [
      "새삥 (Prod. ZICO) (Feat. 호미들)|지코 (ZICO)\n",
      "After LIKE|IVE (아이브)\n",
      "Shut Down|BLACKPINK\n",
      "Hype boy|NewJeans\n",
      "Attention|NewJeans\n",
      "Pink Venom|BLACKPINK\n",
      "Rush Hour (Feat. j-hope of BTS)|Crush\n",
      "LOVE DIVE|IVE (아이브)\n",
      "딱 10CM만|10CM\n",
      "사랑은 늘 도망가|임영웅\n",
      "우리들의 블루스|임영웅\n",
      "그때 그 순간 그대로 (그그그)|WSG워너비 (가야G)\n",
      "Cookie|NewJeans\n",
      "다시 만날 수 있을까|임영웅\n",
      "FOREVER 1|소녀시대 (GIRLS' GENERATION)\n",
      "그라데이션|10CM\n",
      "우린 그렇게 사랑해서|강민경 (다비치)\n",
      "LAW (Prod. Czaer)|윤미래\n",
      "Monologue|테이\n",
      "보고싶었어|WSG워너비 (4FIRE)\n",
      "무지개|임영웅\n",
      "이제 나만 믿어요|임영웅\n",
      "사랑인가 봐|멜로망스\n",
      "정이라고 하자 (Feat. 10CM)|BIG Naughty (서동현)\n",
      "TOMBOY|(여자)아이들\n",
      "내가 아니라도|주호\n",
      "아버지|임영웅\n",
      "자격지심 (Feat. ZICO)|BE'O (비오)\n",
      "SNEAKERS|ITZY (있지)\n",
      "A bientot|임영웅\n",
      "해요 (2022)|#안녕\n",
      "손이 참 곱던 그대|임영웅\n",
      "나의 X에게|경서\n",
      "사랑해 진짜|임영웅\n",
      "인생찬가|임영웅\n",
      "연애편지|임영웅\n",
      "That That (prod. & feat. SUGA of BTS)|싸이 (PSY)\n",
      "ELEVEN|IVE (아이브)\n",
      "사랑역|임영웅\n",
      "내 기쁨은 너가 벤틀리를 끄는 거야|김승민\n",
      "보금자리|임영웅\n",
      "사랑해요 그대를|임영웅\n",
      "FEARLESS|LE SSERAFIM (르세라핌)\n",
      "POP!|나연 (TWICE)\n",
      "That's Hilarious|Charlie Puth\n",
      "취중고백|김민석 (멜로망스)\n",
      "너의 모든 순간|성시경\n",
      "LOVE me|BE'O (비오)\n",
      "도깨비불 (Illusion)|aespa\n",
      "Love story|볼빨간사춘기\n",
      "다정히 내 이름을 부르면|경서예지\n",
      "I Don't Think That I Like Her|Charlie Puth\n",
      "봄여름가을겨울 (Still Life)|BIGBANG (빅뱅)\n",
      "사랑한다고 말해줘|탑현\n",
      "새벽에 걸려온 너의 전화는|한동근\n",
      "Dynamite|방탄소년단\n",
      "STAY|The Kid LAROI\n",
      "Girls|aespa\n",
      "통화연결음|보라미유\n",
      "Talk that Talk|TWICE (트와이스)\n",
      "Left and Right (Feat. Jung Kook of BTS)|Charlie Puth\n",
      "모든 날, 모든 순간 (Every day, Every Moment)|폴킴\n",
      "Feel My Rhythm|Red Velvet (레드벨벳)\n",
      "스티커 사진|21학번\n",
      "신호등|이무진\n",
      "strawberry moon|아이유\n",
      "질주 (2 Baddies)|NCT 127\n",
      "DICE|NMIXX\n",
      "Butter|방탄소년단\n",
      "INVU|태연 (TAEYEON)\n",
      "주저하는 연인들을 위해|잔나비\n",
      "밤하늘의 별을(2020)|경서\n",
      "드라마|아이유\n",
      "Yet To Come|방탄소년단\n",
      "I Ain't Worried|OneRepublic\n",
      "내 손을 잡아|아이유\n",
      "바보에게 바보가 (웹툰 '연애의 발견' X 이석훈)|이석훈\n",
      "Permission to Dance|방탄소년단\n",
      "GANADARA (Feat. 아이유)|박재범\n",
      "봄날|방탄소년단\n",
      "늦은 밤 헤어지긴 너무 아쉬워|케이시 (Kassy)\n",
      "Next Level|aespa\n",
      "그중에 그대를 만나|김호중\n",
      "Off My Face|Justin Bieber\n",
      "아무래도 난|주시크 (Joosiq)\n",
      "열이올라요 (Heart Burn)|선미\n",
      "MY BAG|(여자)아이들\n",
      "듣고 싶을까|MSG워너비(M.O.M)\n",
      "Weekend|태연 (TAEYEON)\n",
      "인생은 뷰티풀|김호중\n",
      "너를 생각해|주시크 (Joosiq)\n",
      "SMILEY (Feat. BIBI)|YENA (최예나)\n",
      "잠수이별 (Prod. 코드 쿤스트)|우원재\n",
      "나의 목소리로|김호중\n",
      "회전목마 (Feat. Zion.T, 원슈타인) (Prod. Slom)|sokodomo\n",
      "Celebrity|아이유\n",
      "고백하는 취한밤에 (Prod. 2soo)|임재현\n",
      "주마등|김호중\n",
      "바라만 본다|MSG워너비(M.O.M)\n",
      "Ready For Love|BLACKPINK\n"
     ]
    }
   ],
   "source": [
    "for song in songs:\n",
    "    title=song.select('div.ellipsis.rank01 > span > a')[0].text\n",
    "    singer=song.select('div.ellipsis.rank02 > a')[0].text\n",
    "    print(title, singer, sep='|')"
   ]
  },
  {
   "cell_type": "code",
   "execution_count": 19,
   "id": "7e4d5195",
   "metadata": {},
   "outputs": [
    {
     "name": "stderr",
     "output_type": "stream",
     "text": [
      "C:\\Users\\wjaud\\AppData\\Local\\Temp\\ipykernel_22996\\1799211945.py:1: DeprecationWarning: executable_path has been deprecated, please pass in a Service object\n",
      "  driver=webdriver.Chrome('chromedriver.exe')\n"
     ]
    },
    {
     "name": "stdout",
     "output_type": "stream",
     "text": [
      "새삥 (Prod. ZICO) (Feat. 호미들)|지코 (ZICO)\n",
      "After LIKE|IVE (아이브)\n",
      "Shut Down|BLACKPINK\n",
      "Hype boy|NewJeans\n",
      "Attention|NewJeans\n",
      "Pink Venom|BLACKPINK\n",
      "Rush Hour (Feat. j-hope of BTS)|Crush\n",
      "LOVE DIVE|IVE (아이브)\n",
      "딱 10CM만|10CM\n",
      "사랑은 늘 도망가|임영웅\n",
      "그때 그 순간 그대로 (그그그)|WSG워너비 (가야G)\n",
      "Cookie|NewJeans\n",
      "우리들의 블루스|임영웅\n",
      "FOREVER 1|소녀시대 (GIRLS' GENERATION)\n",
      "그라데이션|10CM\n",
      "우린 그렇게 사랑해서|강민경 (다비치)\n",
      "다시 만날 수 있을까|임영웅\n",
      "LAW (Prod. Czaer)|윤미래\n",
      "Monologue|테이\n",
      "보고싶었어|WSG워너비 (4FIRE)\n",
      "무지개|임영웅\n",
      "이제 나만 믿어요|임영웅\n",
      "사랑인가 봐|멜로망스\n",
      "TOMBOY|(여자)아이들\n",
      "자격지심 (Feat. ZICO)|BE'O (비오)\n",
      "정이라고 하자 (Feat. 10CM)|BIG Naughty (서동현)\n",
      "내가 아니라도|주호\n",
      "SNEAKERS|ITZY (있지)\n",
      "아버지|임영웅\n",
      "해요 (2022)|#안녕\n",
      "나의 X에게|경서\n",
      "A bientot|임영웅\n",
      "손이 참 곱던 그대|임영웅\n",
      "That That (prod. & feat. SUGA of BTS)|싸이 (PSY)\n",
      "사랑해 진짜|임영웅\n",
      "인생찬가|임영웅\n",
      "ELEVEN|IVE (아이브)\n",
      "내 기쁨은 너가 벤틀리를 끄는 거야|김승민\n",
      "연애편지|임영웅\n",
      "FEARLESS|LE SSERAFIM (르세라핌)\n",
      "That's Hilarious|Charlie Puth\n",
      "사랑역|임영웅\n",
      "POP!|나연 (TWICE)\n",
      "보금자리|임영웅\n",
      "사랑해요 그대를|임영웅\n",
      "너의 모든 순간|성시경\n",
      "취중고백|김민석 (멜로망스)\n",
      "도깨비불 (Illusion)|aespa\n",
      "LOVE me|BE'O (비오)\n",
      "Love story|볼빨간사춘기\n",
      "다정히 내 이름을 부르면|경서예지\n",
      "I Don't Think That I Like Her|Charlie Puth\n",
      "봄여름가을겨울 (Still Life)|BIGBANG (빅뱅)\n",
      "사랑한다고 말해줘|탑현\n",
      "새벽에 걸려온 너의 전화는|한동근\n",
      "Dynamite|방탄소년단\n",
      "STAY|The Kid LAROI\n",
      "통화연결음|보라미유\n",
      "Left and Right (Feat. Jung Kook of BTS)|Charlie Puth\n",
      "Girls|aespa\n",
      "Talk that Talk|TWICE (트와이스)\n",
      "모든 날, 모든 순간 (Every day, Every Moment)|폴킴\n",
      "Feel My Rhythm|Red Velvet (레드벨벳)\n",
      "스티커 사진|21학번\n",
      "strawberry moon|아이유\n",
      "INVU|태연 (TAEYEON)\n",
      "밤하늘의 별을(2020)|경서\n",
      "신호등|이무진\n",
      "Butter|방탄소년단\n",
      "DICE|NMIXX\n",
      "드라마|아이유\n",
      "내 손을 잡아|아이유\n",
      "질주 (2 Baddies)|NCT 127\n",
      "I Ain't Worried|OneRepublic\n",
      "주저하는 연인들을 위해|잔나비\n",
      "바보에게 바보가 (웹툰 '연애의 발견' X 이석훈)|이석훈\n",
      "Yet To Come|방탄소년단\n",
      "GANADARA (Feat. 아이유)|박재범\n",
      "Next Level|aespa\n",
      "늦은 밤 헤어지긴 너무 아쉬워|케이시 (Kassy)\n",
      "Off My Face|Justin Bieber\n",
      "봄날|방탄소년단\n",
      "Permission to Dance|방탄소년단\n",
      "아무래도 난|주시크 (Joosiq)\n",
      "MY BAG|(여자)아이들\n",
      "듣고 싶을까|MSG워너비(M.O.M)\n",
      "열이올라요 (Heart Burn)|선미\n",
      "SMILEY (Feat. BIBI)|YENA (최예나)\n",
      "너를 생각해|주시크 (Joosiq)\n",
      "Weekend|태연 (TAEYEON)\n",
      "그중에 그대를 만나|김호중\n",
      "인생은 뷰티풀|김호중\n",
      "잠수이별 (Prod. 코드 쿤스트)|우원재\n",
      "회전목마 (Feat. Zion.T, 원슈타인) (Prod. Slom)|sokodomo\n",
      "고백하는 취한밤에 (Prod. 2soo)|임재현\n",
      "Celebrity|아이유\n",
      "나의 목소리로|김호중\n",
      "바라만 본다|MSG워너비(M.O.M)\n",
      "Ready For Love|BLACKPINK\n",
      "OHAYO MY NIGHT|디핵 (D-Hack)\n"
     ]
    }
   ],
   "source": [
    "driver=webdriver.Chrome('chromedriver.exe')\n",
    "url='https://www.melon.com/chart/index.htm'\n",
    "driver.get(url)\n",
    "html=driver.page_source\n",
    "soup=BeautifulSoup(html, 'html.parser')\n",
    "\n",
    "songs=soup.select('tr')[1:]\n",
    "\n",
    "for song in songs:\n",
    "    title=song.select('div.ellipsis.rank01 > span > a')[0].text\n",
    "    singer=song.select('div.ellipsis.rank02 > a')[0].text\n",
    "    print(title, singer, sep='|')"
   ]
  },
  {
   "cell_type": "code",
   "execution_count": 21,
   "id": "e497ae08",
   "metadata": {},
   "outputs": [],
   "source": [
    "song_data=[]\n",
    "rank=1\n",
    "\n",
    "songs=soup.select('table > tbody > tr')\n",
    "\n",
    "for song in songs:\n",
    "    title=song.select('div.rank01 > span > a')[0].text\n",
    "    singer=song.select('div.rank02 > a')[0].text\n",
    "    song_data.append(['Melon', rank, title, singer])\n",
    "    rank=rank+1"
   ]
  },
  {
   "cell_type": "code",
   "execution_count": 22,
   "id": "68f59be0",
   "metadata": {},
   "outputs": [
    {
     "data": {
      "text/html": [
       "<div>\n",
       "<style scoped>\n",
       "    .dataframe tbody tr th:only-of-type {\n",
       "        vertical-align: middle;\n",
       "    }\n",
       "\n",
       "    .dataframe tbody tr th {\n",
       "        vertical-align: top;\n",
       "    }\n",
       "\n",
       "    .dataframe thead th {\n",
       "        text-align: right;\n",
       "    }\n",
       "</style>\n",
       "<table border=\"1\" class=\"dataframe\">\n",
       "  <thead>\n",
       "    <tr style=\"text-align: right;\">\n",
       "      <th></th>\n",
       "      <th>서비스</th>\n",
       "      <th>순위</th>\n",
       "      <th>타이틀</th>\n",
       "      <th>가수</th>\n",
       "    </tr>\n",
       "  </thead>\n",
       "  <tbody>\n",
       "    <tr>\n",
       "      <th>0</th>\n",
       "      <td>Melon</td>\n",
       "      <td>1</td>\n",
       "      <td>새삥 (Prod. ZICO) (Feat. 호미들)</td>\n",
       "      <td>지코 (ZICO)</td>\n",
       "    </tr>\n",
       "    <tr>\n",
       "      <th>1</th>\n",
       "      <td>Melon</td>\n",
       "      <td>2</td>\n",
       "      <td>After LIKE</td>\n",
       "      <td>IVE (아이브)</td>\n",
       "    </tr>\n",
       "    <tr>\n",
       "      <th>2</th>\n",
       "      <td>Melon</td>\n",
       "      <td>3</td>\n",
       "      <td>Shut Down</td>\n",
       "      <td>BLACKPINK</td>\n",
       "    </tr>\n",
       "    <tr>\n",
       "      <th>3</th>\n",
       "      <td>Melon</td>\n",
       "      <td>4</td>\n",
       "      <td>Hype boy</td>\n",
       "      <td>NewJeans</td>\n",
       "    </tr>\n",
       "    <tr>\n",
       "      <th>4</th>\n",
       "      <td>Melon</td>\n",
       "      <td>5</td>\n",
       "      <td>Attention</td>\n",
       "      <td>NewJeans</td>\n",
       "    </tr>\n",
       "  </tbody>\n",
       "</table>\n",
       "</div>"
      ],
      "text/plain": [
       "     서비스  순위                          타이틀         가수\n",
       "0  Melon   1  새삥 (Prod. ZICO) (Feat. 호미들)  지코 (ZICO)\n",
       "1  Melon   2                   After LIKE  IVE (아이브)\n",
       "2  Melon   3                    Shut Down  BLACKPINK\n",
       "3  Melon   4                     Hype boy   NewJeans\n",
       "4  Melon   5                    Attention   NewJeans"
      ]
     },
     "execution_count": 22,
     "metadata": {},
     "output_type": "execute_result"
    }
   ],
   "source": [
    "import pandas as pd\n",
    "columns=['서비스', '순위', '타이틀', '가수']\n",
    "pd_data=pd.DataFrame(song_data, columns=columns)\n",
    "pd_data.head()"
   ]
  },
  {
   "cell_type": "code",
   "execution_count": 23,
   "id": "2dbeca5b",
   "metadata": {},
   "outputs": [],
   "source": [
    "pd_data.to_excel('melon.xlsx', index=False)"
   ]
  }
 ],
 "metadata": {
  "kernelspec": {
   "display_name": "Python 3 (ipykernel)",
   "language": "python",
   "name": "python3"
  },
  "language_info": {
   "codemirror_mode": {
    "name": "ipython",
    "version": 3
   },
   "file_extension": ".py",
   "mimetype": "text/x-python",
   "name": "python",
   "nbconvert_exporter": "python",
   "pygments_lexer": "ipython3",
   "version": "3.9.12"
  }
 },
 "nbformat": 4,
 "nbformat_minor": 5
}
