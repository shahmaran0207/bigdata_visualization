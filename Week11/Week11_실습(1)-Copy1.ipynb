{
 "cells": [
  {
   "cell_type": "markdown",
   "metadata": {},
   "source": [
    "# Week 11 데이터 시각화: 예측적 분석 (1)"
   ]
  },
  {
   "cell_type": "markdown",
   "metadata": {},
   "source": [
    "-----"
   ]
  },
  {
   "cell_type": "markdown",
   "metadata": {},
   "source": [
    "# 국내 프로야구 연봉 예측"
   ]
  },
  {
   "cell_type": "markdown",
   "metadata": {},
   "source": [
    "### 바로가기"
   ]
  },
  {
   "cell_type": "markdown",
   "metadata": {},
   "source": [
    "- [<Step1. 탐색> 프로야구 연봉 데이터 살펴보기](#<Step1.-탐색>-프로야구-연봉-데이터-살펴보기)\n",
    "    - [프로야구 연봉 데이터셋의 기본 정보]\n",
    "    - [회귀 분석에 사용할 피처 살펴보기]\n",
    "- [<Step2. 예측> : 투수의 연봉 예측하기](#<Step2.-예측>-:-투수의-연봉-예측하기)\n",
    "    - [피처들의 단위 맞춰주기 : 피처 스케일링]\n",
    "    - [피처들의 단위 맞춰주기 : one-hot-encoding]\n",
    "    - [피처들의 상관관계 분석]\n",
    "    - [회귀 분석 적용하기]\n",
    "- [<Step3. 평가> : 예측 모델 평가하기](#<Step3.-평가>-:-예측-모델-평가하기)\n",
    "    - [어떤 피처가 가장 영향력이 강한 피처일까]\n",
    "    - [예측 모델의 평가]\n",
    "    - [회귀 분석 예측 성능을 높이기 위한 방법 : 다중 공선성 확인]\n",
    "    - [믿을만한 피처로 다시 학습하기]\n",
    "- [<Step4. 시각화> : 분석 결과의 시각화](#<Step4.-시각화>-:-분석-결과의-시각화)\n",
    "    - [예상 연봉과 실제 연봉 비교]"
   ]
  },
  {
   "cell_type": "markdown",
   "metadata": {},
   "source": [
    "-----"
   ]
  },
  {
   "cell_type": "code",
   "execution_count": 1,
   "metadata": {},
   "outputs": [],
   "source": [
    "# -*- coding: utf-8 -*-\n",
    "\n",
    "%matplotlib inline\n",
    "\n",
    "import pandas as pd\n",
    "import numpy as np\n",
    "import matplotlib.pyplot as plt\n",
    "\n",
    "import warnings\n",
    "warnings.filterwarnings(\"ignore\")"
   ]
  },
  {
   "cell_type": "markdown",
   "metadata": {},
   "source": [
    "# <Step1. 탐색> 프로야구 연봉 데이터 살펴보기"
   ]
  },
  {
   "cell_type": "markdown",
   "metadata": {},
   "source": [
    "### [프로야구 연봉 데이터셋의 기본 정보]"
   ]
  },
  {
   "cell_type": "code",
   "execution_count": 2,
   "metadata": {},
   "outputs": [],
   "source": [
    "picher_file_path='picher_stats_2017.csv'\n",
    "batter_file_path='batter_stats_2017.csv'\n",
    "picher=pd.read_csv(picher_file_path)\n",
    "batter=pd.read_csv(batter_file_path)"
   ]
  },
  {
   "cell_type": "code",
   "execution_count": 3,
   "metadata": {},
   "outputs": [
    {
     "data": {
      "text/plain": [
       "Index(['선수명', '팀명', '승', '패', '세', '홀드', '블론', '경기', '선발', '이닝', '삼진/9',\n",
       "       '볼넷/9', '홈런/9', 'BABIP', 'LOB%', 'ERA', 'RA9-WAR', 'FIP', 'kFIP', 'WAR',\n",
       "       '연봉(2018)', '연봉(2017)'],\n",
       "      dtype='object')"
      ]
     },
     "execution_count": 3,
     "metadata": {},
     "output_type": "execute_result"
    }
   ],
   "source": [
    "picher.columns"
   ]
  },
  {
   "cell_type": "code",
   "execution_count": 4,
   "metadata": {},
   "outputs": [
    {
     "data": {
      "text/html": [
       "<div>\n",
       "<style scoped>\n",
       "    .dataframe tbody tr th:only-of-type {\n",
       "        vertical-align: middle;\n",
       "    }\n",
       "\n",
       "    .dataframe tbody tr th {\n",
       "        vertical-align: top;\n",
       "    }\n",
       "\n",
       "    .dataframe thead th {\n",
       "        text-align: right;\n",
       "    }\n",
       "</style>\n",
       "<table border=\"1\" class=\"dataframe\">\n",
       "  <thead>\n",
       "    <tr style=\"text-align: right;\">\n",
       "      <th></th>\n",
       "      <th>선수명</th>\n",
       "      <th>팀명</th>\n",
       "      <th>승</th>\n",
       "      <th>패</th>\n",
       "      <th>세</th>\n",
       "      <th>홀드</th>\n",
       "      <th>블론</th>\n",
       "      <th>경기</th>\n",
       "      <th>선발</th>\n",
       "      <th>이닝</th>\n",
       "      <th>...</th>\n",
       "      <th>홈런/9</th>\n",
       "      <th>BABIP</th>\n",
       "      <th>LOB%</th>\n",
       "      <th>ERA</th>\n",
       "      <th>RA9-WAR</th>\n",
       "      <th>FIP</th>\n",
       "      <th>kFIP</th>\n",
       "      <th>WAR</th>\n",
       "      <th>연봉(2018)</th>\n",
       "      <th>연봉(2017)</th>\n",
       "    </tr>\n",
       "  </thead>\n",
       "  <tbody>\n",
       "    <tr>\n",
       "      <th>0</th>\n",
       "      <td>켈리</td>\n",
       "      <td>SK</td>\n",
       "      <td>16</td>\n",
       "      <td>7</td>\n",
       "      <td>0</td>\n",
       "      <td>0</td>\n",
       "      <td>0</td>\n",
       "      <td>30</td>\n",
       "      <td>30</td>\n",
       "      <td>190.0</td>\n",
       "      <td>...</td>\n",
       "      <td>0.76</td>\n",
       "      <td>0.342</td>\n",
       "      <td>73.7</td>\n",
       "      <td>3.60</td>\n",
       "      <td>6.91</td>\n",
       "      <td>3.69</td>\n",
       "      <td>3.44</td>\n",
       "      <td>6.62</td>\n",
       "      <td>140000</td>\n",
       "      <td>85000</td>\n",
       "    </tr>\n",
       "    <tr>\n",
       "      <th>1</th>\n",
       "      <td>소사</td>\n",
       "      <td>LG</td>\n",
       "      <td>11</td>\n",
       "      <td>11</td>\n",
       "      <td>1</td>\n",
       "      <td>0</td>\n",
       "      <td>0</td>\n",
       "      <td>30</td>\n",
       "      <td>29</td>\n",
       "      <td>185.1</td>\n",
       "      <td>...</td>\n",
       "      <td>0.53</td>\n",
       "      <td>0.319</td>\n",
       "      <td>67.1</td>\n",
       "      <td>3.88</td>\n",
       "      <td>6.80</td>\n",
       "      <td>3.52</td>\n",
       "      <td>3.41</td>\n",
       "      <td>6.08</td>\n",
       "      <td>120000</td>\n",
       "      <td>50000</td>\n",
       "    </tr>\n",
       "    <tr>\n",
       "      <th>2</th>\n",
       "      <td>양현종</td>\n",
       "      <td>KIA</td>\n",
       "      <td>20</td>\n",
       "      <td>6</td>\n",
       "      <td>0</td>\n",
       "      <td>0</td>\n",
       "      <td>0</td>\n",
       "      <td>31</td>\n",
       "      <td>31</td>\n",
       "      <td>193.1</td>\n",
       "      <td>...</td>\n",
       "      <td>0.79</td>\n",
       "      <td>0.332</td>\n",
       "      <td>72.1</td>\n",
       "      <td>3.44</td>\n",
       "      <td>6.54</td>\n",
       "      <td>3.94</td>\n",
       "      <td>3.82</td>\n",
       "      <td>5.64</td>\n",
       "      <td>230000</td>\n",
       "      <td>150000</td>\n",
       "    </tr>\n",
       "    <tr>\n",
       "      <th>3</th>\n",
       "      <td>차우찬</td>\n",
       "      <td>LG</td>\n",
       "      <td>10</td>\n",
       "      <td>7</td>\n",
       "      <td>0</td>\n",
       "      <td>0</td>\n",
       "      <td>0</td>\n",
       "      <td>28</td>\n",
       "      <td>28</td>\n",
       "      <td>175.2</td>\n",
       "      <td>...</td>\n",
       "      <td>1.02</td>\n",
       "      <td>0.298</td>\n",
       "      <td>75.0</td>\n",
       "      <td>3.43</td>\n",
       "      <td>6.11</td>\n",
       "      <td>4.20</td>\n",
       "      <td>4.03</td>\n",
       "      <td>4.63</td>\n",
       "      <td>100000</td>\n",
       "      <td>100000</td>\n",
       "    </tr>\n",
       "    <tr>\n",
       "      <th>4</th>\n",
       "      <td>레일리</td>\n",
       "      <td>롯데</td>\n",
       "      <td>13</td>\n",
       "      <td>7</td>\n",
       "      <td>0</td>\n",
       "      <td>0</td>\n",
       "      <td>0</td>\n",
       "      <td>30</td>\n",
       "      <td>30</td>\n",
       "      <td>187.1</td>\n",
       "      <td>...</td>\n",
       "      <td>0.91</td>\n",
       "      <td>0.323</td>\n",
       "      <td>74.1</td>\n",
       "      <td>3.80</td>\n",
       "      <td>6.13</td>\n",
       "      <td>4.36</td>\n",
       "      <td>4.31</td>\n",
       "      <td>4.38</td>\n",
       "      <td>111000</td>\n",
       "      <td>85000</td>\n",
       "    </tr>\n",
       "  </tbody>\n",
       "</table>\n",
       "<p>5 rows × 22 columns</p>\n",
       "</div>"
      ],
      "text/plain": [
       "   선수명   팀명   승   패  세  홀드  블론  경기  선발     이닝  ...  홈런/9  BABIP  LOB%   ERA  \\\n",
       "0   켈리   SK  16   7  0   0   0  30  30  190.0  ...  0.76  0.342  73.7  3.60   \n",
       "1   소사   LG  11  11  1   0   0  30  29  185.1  ...  0.53  0.319  67.1  3.88   \n",
       "2  양현종  KIA  20   6  0   0   0  31  31  193.1  ...  0.79  0.332  72.1  3.44   \n",
       "3  차우찬   LG  10   7  0   0   0  28  28  175.2  ...  1.02  0.298  75.0  3.43   \n",
       "4  레일리   롯데  13   7  0   0   0  30  30  187.1  ...  0.91  0.323  74.1  3.80   \n",
       "\n",
       "   RA9-WAR   FIP  kFIP   WAR  연봉(2018)  연봉(2017)  \n",
       "0     6.91  3.69  3.44  6.62    140000     85000  \n",
       "1     6.80  3.52  3.41  6.08    120000     50000  \n",
       "2     6.54  3.94  3.82  5.64    230000    150000  \n",
       "3     6.11  4.20  4.03  4.63    100000    100000  \n",
       "4     6.13  4.36  4.31  4.38    111000     85000  \n",
       "\n",
       "[5 rows x 22 columns]"
      ]
     },
     "execution_count": 4,
     "metadata": {},
     "output_type": "execute_result"
    }
   ],
   "source": [
    "picher.head()"
   ]
  },
  {
   "cell_type": "code",
   "execution_count": 5,
   "metadata": {},
   "outputs": [
    {
     "name": "stdout",
     "output_type": "stream",
     "text": [
      "(152, 22)\n"
     ]
    }
   ],
   "source": [
    "print(picher.shape)"
   ]
  },
  {
   "cell_type": "markdown",
   "metadata": {},
   "source": [
    "-----"
   ]
  },
  {
   "cell_type": "markdown",
   "metadata": {},
   "source": [
    "### `[참고 - 한글을 사용하는 그래프]`\n",
    "- 파이썬에서 matplotlib 기반의 시각화 툴을 이용할 때 한글 폰트를 사용하는 방법\n",
    "    - 자신의 개발환경에 설치된 폰트 확인\n",
    "        - `set(sorted([f.name for f in mpl.font_manager.fontManager.ttflist]))`\n",
    "    - 한글 폰트를 설정한 뒤, 축에 적용\n",
    "        - 예시 :`mpl.rc('font', family='08SeoulHangang')`\n",
    "    - 한글 폰트가 없다면, http://hangeul.naver.com/2017/nanum 에서 설치"
   ]
  },
  {
   "cell_type": "code",
   "execution_count": 6,
   "metadata": {},
   "outputs": [
    {
     "data": {
      "text/plain": [
       "{'Agency FB',\n",
       " 'Algerian',\n",
       " 'Ami R',\n",
       " 'Arial',\n",
       " 'Arial Rounded MT Bold',\n",
       " 'Bahnschrift',\n",
       " 'Baskerville Old Face',\n",
       " 'Batang',\n",
       " 'Bauhaus 93',\n",
       " 'Bell MT',\n",
       " 'Berlin Sans FB',\n",
       " 'Berlin Sans FB Demi',\n",
       " 'Bernard MT Condensed',\n",
       " 'Blackadder ITC',\n",
       " 'Bodoni MT',\n",
       " 'Book Antiqua',\n",
       " 'Bookman Old Style',\n",
       " 'Bookshelf Symbol 7',\n",
       " 'Bradley Hand ITC',\n",
       " 'Britannic Bold',\n",
       " 'Broadway',\n",
       " 'Brush Script MT',\n",
       " 'Calibri',\n",
       " 'Californian FB',\n",
       " 'Calisto MT',\n",
       " 'Cambria',\n",
       " 'Candara',\n",
       " 'Castellar',\n",
       " 'Centaur',\n",
       " 'Century',\n",
       " 'Century Gothic',\n",
       " 'Century Schoolbook',\n",
       " 'Chiller',\n",
       " 'Colonna MT',\n",
       " 'Comic Sans MS',\n",
       " 'Consolas',\n",
       " 'Constantia',\n",
       " 'Cooper Black',\n",
       " 'Copperplate Gothic Bold',\n",
       " 'Copperplate Gothic Light',\n",
       " 'Corbel',\n",
       " 'Courier New',\n",
       " 'Curlz MT',\n",
       " 'DejaVu Sans',\n",
       " 'DejaVu Sans Display',\n",
       " 'DejaVu Sans Mono',\n",
       " 'DejaVu Serif',\n",
       " 'DejaVu Serif Display',\n",
       " 'Dubai',\n",
       " 'Ebrima',\n",
       " 'Edwardian Script ITC',\n",
       " 'Elephant',\n",
       " 'Engravers MT',\n",
       " 'Eras Bold ITC',\n",
       " 'Eras Demi ITC',\n",
       " 'Eras Light ITC',\n",
       " 'Eras Medium ITC',\n",
       " 'Felix Titling',\n",
       " 'Footlight MT Light',\n",
       " 'Forte',\n",
       " 'Franklin Gothic Book',\n",
       " 'Franklin Gothic Demi',\n",
       " 'Franklin Gothic Demi Cond',\n",
       " 'Franklin Gothic Heavy',\n",
       " 'Franklin Gothic Medium',\n",
       " 'Franklin Gothic Medium Cond',\n",
       " 'Freestyle Script',\n",
       " 'French Script MT',\n",
       " 'Gabriola',\n",
       " 'Gadugi',\n",
       " 'Garamond',\n",
       " 'Georgia',\n",
       " 'Gigi',\n",
       " 'Gill Sans MT',\n",
       " 'Gill Sans MT Condensed',\n",
       " 'Gill Sans MT Ext Condensed Bold',\n",
       " 'Gill Sans Ultra Bold',\n",
       " 'Gill Sans Ultra Bold Condensed',\n",
       " 'Gloucester MT Extra Condensed',\n",
       " 'Goudy Old Style',\n",
       " 'Goudy Stout',\n",
       " 'Gulim',\n",
       " 'HCR Batang',\n",
       " 'HCR Batang Ext',\n",
       " 'HCR Batang ExtB',\n",
       " 'HCR Dotum',\n",
       " 'HCR Dotum Ext',\n",
       " 'HYGothic-Extra',\n",
       " 'HYGothic-Medium',\n",
       " 'HYGraphic-Medium',\n",
       " 'HYGungSo-Bold',\n",
       " 'HYHeadLine-Medium',\n",
       " 'HYMyeongJo-Extra',\n",
       " 'HYPMokGak-Bold',\n",
       " 'HYPost-Light',\n",
       " 'HYPost-Medium',\n",
       " 'HYShortSamul-Medium',\n",
       " 'HYSinMyeongJo-Medium',\n",
       " 'Haan Wing2',\n",
       " 'Haettenschweiler',\n",
       " 'Han Santteut Dotum',\n",
       " 'Hancom Gothic',\n",
       " 'HancomEQN',\n",
       " 'Harlow Solid Italic',\n",
       " 'Harrington',\n",
       " 'Headline R',\n",
       " 'High Tower Text',\n",
       " 'HoloLens MDL2 Assets',\n",
       " 'HyhwpEQ',\n",
       " 'Impact',\n",
       " 'Imprint MT Shadow',\n",
       " 'Informal Roman',\n",
       " 'Ink Free',\n",
       " 'Javanese Text',\n",
       " 'Jokerman',\n",
       " 'Juice ITC',\n",
       " 'Kristen ITC',\n",
       " 'Kunstler Script',\n",
       " 'LG PC',\n",
       " 'LG Smart UI',\n",
       " 'Leelawadee UI',\n",
       " 'Lucida Bright',\n",
       " 'Lucida Calligraphy',\n",
       " 'Lucida Console',\n",
       " 'Lucida Fax',\n",
       " 'Lucida Handwriting',\n",
       " 'Lucida Sans',\n",
       " 'Lucida Sans Typewriter',\n",
       " 'Lucida Sans Unicode',\n",
       " 'MS Gothic',\n",
       " 'MS Outlook',\n",
       " 'MS Reference Sans Serif',\n",
       " 'MS Reference Specialty',\n",
       " 'MT Extra',\n",
       " 'MV Boli',\n",
       " 'Magic R',\n",
       " 'Magneto',\n",
       " 'Maiandra GD',\n",
       " 'Malgun Gothic',\n",
       " 'Marlett',\n",
       " 'Matura MT Script Capitals',\n",
       " 'Microsoft Himalaya',\n",
       " 'Microsoft JhengHei',\n",
       " 'Microsoft New Tai Lue',\n",
       " 'Microsoft PhagsPa',\n",
       " 'Microsoft Sans Serif',\n",
       " 'Microsoft Tai Le',\n",
       " 'Microsoft YaHei',\n",
       " 'Microsoft Yi Baiti',\n",
       " 'MingLiU-ExtB',\n",
       " 'Mistral',\n",
       " 'Modern No. 20',\n",
       " 'MoeumT R',\n",
       " 'Mongolian Baiti',\n",
       " 'Monotype Corsiva',\n",
       " 'Myanmar Text',\n",
       " 'NanumBarunGothic',\n",
       " 'NanumBarunGothicOTF',\n",
       " 'NanumGothic',\n",
       " 'NanumGothic Eco',\n",
       " 'NanumGothicOTF',\n",
       " 'NanumGothicOTF Eco',\n",
       " 'NanumMyeongjo',\n",
       " 'NanumMyeongjoOTF',\n",
       " 'NanumSquare',\n",
       " 'NanumSquareOTF',\n",
       " 'NanumSquareOTF_ac',\n",
       " 'NanumSquareRound',\n",
       " 'NanumSquareRoundOTF',\n",
       " 'NanumSquare_ac',\n",
       " 'New Gulim',\n",
       " 'NewJumja',\n",
       " 'Niagara Engraved',\n",
       " 'Niagara Solid',\n",
       " 'Nirmala UI',\n",
       " 'OCR A Extended',\n",
       " 'Old English Text MT',\n",
       " 'Onyx',\n",
       " 'Palace Script MT',\n",
       " 'Palatino Linotype',\n",
       " 'Papyrus',\n",
       " 'Parchment',\n",
       " 'Perpetua',\n",
       " 'Perpetua Titling MT',\n",
       " 'Playbill',\n",
       " 'Poor Richard',\n",
       " 'Pristina',\n",
       " 'Pyunji R',\n",
       " 'Rage Italic',\n",
       " 'Ravie',\n",
       " 'Rockwell',\n",
       " 'Rockwell Condensed',\n",
       " 'Rockwell Extra Bold',\n",
       " 'STIXGeneral',\n",
       " 'STIXNonUnicode',\n",
       " 'STIXSizeFiveSym',\n",
       " 'STIXSizeFourSym',\n",
       " 'STIXSizeOneSym',\n",
       " 'STIXSizeThreeSym',\n",
       " 'STIXSizeTwoSym',\n",
       " 'Script MT Bold',\n",
       " 'Segoe Fluent Icons',\n",
       " 'Segoe MDL2 Assets',\n",
       " 'Segoe Print',\n",
       " 'Segoe Script',\n",
       " 'Segoe UI',\n",
       " 'Segoe UI Emoji',\n",
       " 'Segoe UI Historic',\n",
       " 'Segoe UI Symbol',\n",
       " 'Segoe UI Variable',\n",
       " 'Showcard Gothic',\n",
       " 'SimSun',\n",
       " 'SimSun-ExtB',\n",
       " 'Sitka',\n",
       " 'Snap ITC',\n",
       " 'Stencil',\n",
       " 'Sylfaen',\n",
       " 'Symbol',\n",
       " 'Tahoma',\n",
       " 'Tempus Sans ITC',\n",
       " 'Times New Roman',\n",
       " 'Trebuchet MS',\n",
       " 'Tw Cen MT',\n",
       " 'Tw Cen MT Condensed',\n",
       " 'Tw Cen MT Condensed Extra Bold',\n",
       " 'Verdana',\n",
       " 'Viner Hand ITC',\n",
       " 'Vivaldi',\n",
       " 'Vladimir Script',\n",
       " 'Webdings',\n",
       " 'Wide Latin',\n",
       " 'Wingdings',\n",
       " 'Wingdings 2',\n",
       " 'Wingdings 3',\n",
       " 'Yet R',\n",
       " 'Yu Gothic',\n",
       " 'cmb10',\n",
       " 'cmex10',\n",
       " 'cmmi10',\n",
       " 'cmr10',\n",
       " 'cmss10',\n",
       " 'cmsy10',\n",
       " 'cmtt10'}"
      ]
     },
     "execution_count": 6,
     "metadata": {},
     "output_type": "execute_result"
    }
   ],
   "source": [
    "import matplotlib as mpl\n",
    "set(sorted([f.name for f in mpl.font_manager.fontManager.ttflist])) # 현재 OS 내에 설치된 폰트를 확인합니다."
   ]
  },
  {
   "cell_type": "code",
   "execution_count": 7,
   "metadata": {},
   "outputs": [],
   "source": [
    "mpl.rc('font', family='Malgun Gothic') # 자신의 OS에 존재하는 한글 폰트를 선택합니다. 없는경우, 위의 링크에서 한글폰트 설치 후 실행합니다."
   ]
  },
  {
   "cell_type": "markdown",
   "metadata": {},
   "source": [
    "###### 예측할 대상인 '연봉'에 대한 정보"
   ]
  },
  {
   "cell_type": "code",
   "execution_count": null,
   "metadata": {},
   "outputs": [],
   "source": []
  },
  {
   "cell_type": "code",
   "execution_count": null,
   "metadata": {},
   "outputs": [],
   "source": []
  },
  {
   "cell_type": "code",
   "execution_count": null,
   "metadata": {},
   "outputs": [],
   "source": []
  },
  {
   "cell_type": "markdown",
   "metadata": {},
   "source": [
    "- 수십억원대 연봉을 받는 프로선수는 많지 않으며, 5억원 미만의 연봉이 일반적임\n",
    "- 기준을 넘어가는 값들이 일부 보임 (Q3+ (1.5* IQR))"
   ]
  },
  {
   "cell_type": "markdown",
   "metadata": {},
   "source": [
    "-----"
   ]
  },
  {
   "cell_type": "markdown",
   "metadata": {},
   "source": [
    "### [회귀 분석에 사용할 피처 살펴보기]\n",
    " - 선수명, 팀명과 같이 그래프로 표현할 수 없는 피처들을 제외하고, 모든 수치형 피처의 분포를 살펴보자\n",
    " - 피처들의 분포는 어떠한가? 균형 또는 불균형\n",
    " - 각 피처들의 단워는 같은가 다른가?"
   ]
  },
  {
   "cell_type": "code",
   "execution_count": null,
   "metadata": {},
   "outputs": [],
   "source": []
  },
  {
   "cell_type": "code",
   "execution_count": null,
   "metadata": {},
   "outputs": [],
   "source": []
  },
  {
   "cell_type": "code",
   "execution_count": null,
   "metadata": {},
   "outputs": [],
   "source": []
  },
  {
   "cell_type": "markdown",
   "metadata": {},
   "source": [
    "- 피처들은 균일하지 않음\n",
    "- 각 피처들의 단위는 다름 (피처들의 단위가 다르다면 예측 모델에서 어떤 문제가 발생할까?)"
   ]
  },
  {
   "cell_type": "markdown",
   "metadata": {},
   "source": [
    "-----"
   ]
  },
  {
   "cell_type": "markdown",
   "metadata": {},
   "source": [
    "# <Step2. 예측> : 투수의 연봉 예측하기"
   ]
  },
  {
   "cell_type": "markdown",
   "metadata": {},
   "source": [
    "### [피처들의 단위 맞춰주기 : 피처 스케일링]"
   ]
  },
  {
   "cell_type": "code",
   "execution_count": null,
   "metadata": {},
   "outputs": [],
   "source": []
  },
  {
   "cell_type": "code",
   "execution_count": null,
   "metadata": {},
   "outputs": [],
   "source": []
  },
  {
   "cell_type": "code",
   "execution_count": null,
   "metadata": {},
   "outputs": [],
   "source": []
  },
  {
   "cell_type": "code",
   "execution_count": null,
   "metadata": {},
   "outputs": [],
   "source": []
  },
  {
   "cell_type": "markdown",
   "metadata": {},
   "source": [
    "-----"
   ]
  },
  {
   "cell_type": "markdown",
   "metadata": {},
   "source": [
    "### [피처들의 단위 맞춰주기 : one-hot-encoding]"
   ]
  },
  {
   "cell_type": "markdown",
   "metadata": {},
   "source": [
    "- 연속형이 아는 범주형 피처들은 어떻게 정규화할 수 있을까? (원-핫 인코딩)\n",
    "- pandas에서는 get_dummies()라는 함수를 통해 원-핫 인코딩을 간단히 수행할 수 있음"
   ]
  },
  {
   "cell_type": "code",
   "execution_count": null,
   "metadata": {},
   "outputs": [],
   "source": []
  },
  {
   "cell_type": "code",
   "execution_count": null,
   "metadata": {},
   "outputs": [],
   "source": []
  },
  {
   "cell_type": "code",
   "execution_count": null,
   "metadata": {},
   "outputs": [],
   "source": []
  },
  {
   "cell_type": "markdown",
   "metadata": {},
   "source": [
    "-----"
   ]
  },
  {
   "cell_type": "markdown",
   "metadata": {},
   "source": [
    "### [회귀 분석 적용하기]"
   ]
  },
  {
   "cell_type": "markdown",
   "metadata": {},
   "source": [
    "##### 회귀 분석을 위한 학습, 테스트 데이터셋 분리\n",
    " - random_state: \n",
    "   : scikit learn에서 사용하는 random_state 인자는 수행시마다 동일한 결과를 얻기 위해 적용. train_test_split(..., test_size=0.2) 과 같은 함수는 80% train, 20% test 데이터 세트를 추출. 하지만 추출된 데이터는 수행을 할때마다 다를수 있음. 이는 random하게 80%, 20%를 추출하기 때문임. random_state=1 이라고 하면 바로 이 random 함수의 seed 값을 고정시키기 때문에 여러번 수행하더라도 같은 레코드를 추출함. random 함수의 seed값을 random_state라고 생각하면됨."
   ]
  },
  {
   "cell_type": "code",
   "execution_count": null,
   "metadata": {},
   "outputs": [],
   "source": []
  },
  {
   "cell_type": "markdown",
   "metadata": {},
   "source": [
    "##### 회귀 분석 계수 학습 & 학습된 계수 출력"
   ]
  },
  {
   "cell_type": "code",
   "execution_count": null,
   "metadata": {},
   "outputs": [],
   "source": []
  },
  {
   "cell_type": "code",
   "execution_count": null,
   "metadata": {},
   "outputs": [],
   "source": []
  },
  {
   "cell_type": "code",
   "execution_count": null,
   "metadata": {},
   "outputs": [],
   "source": []
  },
  {
   "cell_type": "markdown",
   "metadata": {},
   "source": [
    "-----"
   ]
  },
  {
   "cell_type": "markdown",
   "metadata": {},
   "source": [
    "# <Step3. 평가> : 예측 모델 평가하기"
   ]
  },
  {
   "cell_type": "markdown",
   "metadata": {},
   "source": [
    "### [어떤 피처가 가장 영향력이 강한 피처일까]\n",
    " - statsmodel이라는 라이브러리를 이용해보자"
   ]
  },
  {
   "cell_type": "code",
   "execution_count": 8,
   "metadata": {},
   "outputs": [
    {
     "name": "stdout",
     "output_type": "stream",
     "text": [
      "Requirement already satisfied: statsmodels in c:\\users\\wjaud\\anaconda3\\lib\\site-packages (0.13.2)\n",
      "Requirement already satisfied: numpy>=1.17 in c:\\users\\wjaud\\anaconda3\\lib\\site-packages (from statsmodels) (1.21.5)\n",
      "Requirement already satisfied: scipy>=1.3 in c:\\users\\wjaud\\anaconda3\\lib\\site-packages (from statsmodels) (1.9.1)\n",
      "Requirement already satisfied: pandas>=0.25 in c:\\users\\wjaud\\anaconda3\\lib\\site-packages (from statsmodels) (1.4.2)\n",
      "Requirement already satisfied: patsy>=0.5.2 in c:\\users\\wjaud\\anaconda3\\lib\\site-packages (from statsmodels) (0.5.2)\n",
      "Requirement already satisfied: packaging>=21.3 in c:\\users\\wjaud\\anaconda3\\lib\\site-packages (from statsmodels) (21.3)\n",
      "Requirement already satisfied: pyparsing!=3.0.5,>=2.0.2 in c:\\users\\wjaud\\anaconda3\\lib\\site-packages (from packaging>=21.3->statsmodels) (3.0.4)\n",
      "Requirement already satisfied: python-dateutil>=2.8.1 in c:\\users\\wjaud\\anaconda3\\lib\\site-packages (from pandas>=0.25->statsmodels) (2.8.2)\n",
      "Requirement already satisfied: pytz>=2020.1 in c:\\users\\wjaud\\anaconda3\\lib\\site-packages (from pandas>=0.25->statsmodels) (2021.3)\n",
      "Requirement already satisfied: six in c:\\users\\wjaud\\anaconda3\\lib\\site-packages (from patsy>=0.5.2->statsmodels) (1.16.0)\n"
     ]
    }
   ],
   "source": [
    "!pip install statsmodels"
   ]
  },
  {
   "cell_type": "code",
   "execution_count": null,
   "metadata": {},
   "outputs": [],
   "source": []
  },
  {
   "cell_type": "markdown",
   "metadata": {},
   "source": [
    "- statmodel에서 OLS(Ordinary Least Squares(최소자승법/최소제곱법) regression)은 linear regression과 동일\n",
    "- 결정계수(R-Score), 수정결정계수(Adj. R-Square)의 값을 잘 살펴볼 필요가 있음\n",
    "  (이는 회귀분석이 얼마나 잘되었는지 평가하는 지표이며, \"회귀 분석으로 추정한 모델이 주어진 데이터를 얼마나 잘 설명하는가?\"에 대한 점수임) --> 1에 가까울 수록 데이터를 잘 설명하는 모델 (오차가 적은 모델)\n",
    "- F-statistic(F 통계량): 회귀식의 유의성 검정에 사용되는 값 (Prob(F-statisitic): F 통계량의 p-value: 일반적으로 0.05이하면 F통계량이 유의한 의미를 가짐\n",
    "- P>|t|: 각 피처의 검정 통계량(t-statistics)의 p-value (마찬가지로 0.05 이하일 때 유의미한 의미를 가짐)\n",
    "  (WAR, 연봉(2017), 한화 3개의 피처가 0.05로 나타남)"
   ]
  },
  {
   "cell_type": "code",
   "execution_count": null,
   "metadata": {},
   "outputs": [],
   "source": []
  },
  {
   "cell_type": "markdown",
   "metadata": {},
   "source": [
    "- 길게 나온것은 영향력인 큰 feature임. 영향력이 크다고 유의미한 feature는 아닐 수 있음\n",
    "  (유의미: p-value가 0.05이하인 것)"
   ]
  },
  {
   "cell_type": "markdown",
   "metadata": {},
   "source": [
    "-----"
   ]
  },
  {
   "cell_type": "markdown",
   "metadata": {},
   "source": [
    "### [예측 모델의 평가]"
   ]
  },
  {
   "cell_type": "code",
   "execution_count": null,
   "metadata": {},
   "outputs": [],
   "source": []
  },
  {
   "cell_type": "code",
   "execution_count": null,
   "metadata": {},
   "outputs": [],
   "source": []
  },
  {
   "cell_type": "markdown",
   "metadata": {},
   "source": [
    "##### R2 score"
   ]
  },
  {
   "cell_type": "code",
   "execution_count": null,
   "metadata": {},
   "outputs": [],
   "source": []
  },
  {
   "cell_type": "markdown",
   "metadata": {},
   "source": [
    "##### RMSE score"
   ]
  },
  {
   "cell_type": "code",
   "execution_count": null,
   "metadata": {},
   "outputs": [],
   "source": []
  },
  {
   "cell_type": "markdown",
   "metadata": {},
   "source": [
    "-----"
   ]
  },
  {
   "cell_type": "markdown",
   "metadata": {},
   "source": [
    "### `[미니 퀴즈 - 3.1]`\n",
    "- `Train score, 그리고 Test score의 차이점은 무엇일까요? 그리고 어떤 점수가 더 높아야 할까요?` \n",
    "    - 훈련 데이터셋을 통해 계산한 점수와 테스트 데이터셋을 통해 계산한 점수간에는 어떤 차이가 있는 것인지 적어 봅시다. 그리고 이 두 점수의 차이가 크다면, 어떤 상황을 의미하는 것인지 생각해 봅시다.\n",
    "        - `대답 예시` : 훈련 데이터셋은 오로지 모델을 학습하고, 비용함수(오차함수)를 평가하는데 사용됩니다. 반면, 테스트 데이터셋은 모델에 영향을 미치지 않습니다. 결과를 예측하기 위한 입력데이터로만 활용됩니다. 가장 이상적인 경우는 Train score, Test score가 차이가 없는 것입니다. 이 차이가 벌어질수록 모델이 훈련 데이터셋에 과적합된 것입니다. 일반적으로는 Train score가 약간 더 높습니다."
   ]
  },
  {
   "cell_type": "markdown",
   "metadata": {},
   "source": [
    "-----"
   ]
  },
  {
   "cell_type": "markdown",
   "metadata": {},
   "source": [
    "### [피처들의 상관관계 분석]"
   ]
  },
  {
   "cell_type": "code",
   "execution_count": null,
   "metadata": {},
   "outputs": [],
   "source": []
  },
  {
   "cell_type": "markdown",
   "metadata": {},
   "source": [
    "- 승-이닝, kfip-fip, RA9_WAR-WAR 간의 높은 연관성 발견"
   ]
  },
  {
   "cell_type": "markdown",
   "metadata": {},
   "source": [
    "-----"
   ]
  },
  {
   "cell_type": "markdown",
   "metadata": {},
   "source": [
    "### [회귀분석 예측 성능을 높이기 위한 방법 : 다중공선성 확인]"
   ]
  },
  {
   "cell_type": "code",
   "execution_count": null,
   "metadata": {},
   "outputs": [],
   "source": []
  },
  {
   "cell_type": "markdown",
   "metadata": {},
   "source": [
    "- 다중공선성: 회귀분석은 피처간의 독립성을 전제로하는 분석방법임. 상관관계가 높은 피처들을 제거(부정적 영향)\n",
    "- VIF(variance inflation fator: 분산팽창요인): VIF 계수가 10-15를 넘으면 다중공선성 문제 발생"
   ]
  },
  {
   "cell_type": "code",
   "execution_count": null,
   "metadata": {},
   "outputs": [],
   "source": []
  },
  {
   "cell_type": "markdown",
   "metadata": {},
   "source": [
    "-----"
   ]
  },
  {
   "cell_type": "markdown",
   "metadata": {},
   "source": [
    "### `[미니 퀴즈 - 3.2]`\n",
    "- `적절한 피처를 선정하여 다시 학습해 보세요.` \n",
    "    - 사용할 피처를 다시 고른 뒤, 다시 학습을 진행했을 때의 Train score, Test score가 어떻게 향상되는지 살펴봅니다.\n",
    "        - 아래의 과정을 거쳐 ['FIP', 'WAR', '볼넷/9', '삼진/9', '연봉(2017)'] 피처를 선정했을 때, 더욱 좋은 결과를 나타냈습니다.\n",
    "            - 선정 과정\n",
    "                - 1. VIF 계수가 높은 피처들을 우선적으로 제거합니다. 단, (FIP, kFIP)와 같이 유사한 두가지 피처중에는 하나만을 제거합니다.\n",
    "                - 2. 다시 공선성을 검증합니다. 이전 단계에서는 VIF 계수가 높았던 볼넷, 삼진 등의 피처의 VIF 계수가 낮아진 것을 확인할 수 있습니다. VIF 계수가 비정상적으로 높은 피처를 제거해주면, 다른 피처들의 공선성도 자연스레 감소하기 때문입니다.\n",
    "                - 3. 여전히 VIF 계수가 높은 피처들을 제거합니다.\n",
    "                - 4. 남은 피처를 토대로 다시한번 회귀분석을 실시합니다. 분석 결과에서 p-value가 유의하면서도 영향력이 큰 피처들을 선정합니다.\n",
    "            - train_score, test_score를 비교했을 때, 기존보다 overfit이 비교적 덜 된것으로 보입니다\n",
    "            - test rmse 역시 감소한 것을 볼 수 있습니다."
   ]
  },
  {
   "cell_type": "markdown",
   "metadata": {},
   "source": [
    "### [적절한 피처로 다시 학습하기]"
   ]
  },
  {
   "cell_type": "code",
   "execution_count": null,
   "metadata": {},
   "outputs": [],
   "source": []
  },
  {
   "cell_type": "code",
   "execution_count": null,
   "metadata": {},
   "outputs": [],
   "source": []
  },
  {
   "cell_type": "code",
   "execution_count": null,
   "metadata": {},
   "outputs": [],
   "source": []
  },
  {
   "cell_type": "code",
   "execution_count": null,
   "metadata": {},
   "outputs": [],
   "source": []
  },
  {
   "cell_type": "code",
   "execution_count": null,
   "metadata": {},
   "outputs": [],
   "source": []
  },
  {
   "cell_type": "markdown",
   "metadata": {},
   "source": [
    "-----"
   ]
  },
  {
   "cell_type": "markdown",
   "metadata": {},
   "source": [
    "# <Step4. 시각화> : 분석 결과의 시각화"
   ]
  },
  {
   "cell_type": "markdown",
   "metadata": {},
   "source": [
    "### [예상 연봉과 실제 연봉 비교]"
   ]
  },
  {
   "cell_type": "code",
   "execution_count": null,
   "metadata": {},
   "outputs": [],
   "source": []
  },
  {
   "cell_type": "code",
   "execution_count": null,
   "metadata": {},
   "outputs": [],
   "source": []
  },
  {
   "cell_type": "code",
   "execution_count": null,
   "metadata": {},
   "outputs": [],
   "source": []
  },
  {
   "cell_type": "code",
   "execution_count": null,
   "metadata": {},
   "outputs": [],
   "source": []
  },
  {
   "cell_type": "code",
   "execution_count": null,
   "metadata": {},
   "outputs": [],
   "source": []
  }
 ],
 "metadata": {
  "kernelspec": {
   "display_name": "Python 3 (ipykernel)",
   "language": "python",
   "name": "python3"
  },
  "language_info": {
   "codemirror_mode": {
    "name": "ipython",
    "version": 3
   },
   "file_extension": ".py",
   "mimetype": "text/x-python",
   "name": "python",
   "nbconvert_exporter": "python",
   "pygments_lexer": "ipython3",
   "version": "3.9.12"
  },
  "toc": {
   "base_numbering": 1,
   "nav_menu": {},
   "number_sections": true,
   "sideBar": true,
   "skip_h1_title": false,
   "title_cell": "Table of Contents",
   "title_sidebar": "Contents",
   "toc_cell": false,
   "toc_position": {
    "height": "calc(100% - 180px)",
    "left": "10px",
    "top": "150px",
    "width": "384px"
   },
   "toc_section_display": true,
   "toc_window_display": true
  }
 },
 "nbformat": 4,
 "nbformat_minor": 4
}
